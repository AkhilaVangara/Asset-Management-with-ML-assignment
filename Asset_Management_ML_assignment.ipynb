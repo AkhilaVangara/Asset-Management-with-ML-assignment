{
 "cells": [
  {
   "cell_type": "markdown",
   "metadata": {},
   "source": [
    "# Import Modules"
   ]
  },
  {
   "cell_type": "code",
   "execution_count": 4,
   "metadata": {},
   "outputs": [],
   "source": [
    "import tensorflow as tf\n",
    "import keras\n",
    "from keras.models import Sequential\n",
    "from keras.regularizers import l2\n",
    "from sklearn.linear_model import LogisticRegression"
   ]
  },
  {
   "cell_type": "code",
   "execution_count": 2,
   "metadata": {},
   "outputs": [],
   "source": [
    "from keras.layers import Dense,Dropout,LSTM"
   ]
  },
  {
   "cell_type": "code",
   "execution_count": 3,
   "metadata": {},
   "outputs": [],
   "source": [
    "import xgboost as xgb\n",
    "import lightgbm as lgb\n",
    "from sklearn.experimental import enable_iterative_imputer\n",
    "from sklearn.impute import IterativeImputer\n",
    "from sklearn.linear_model import BayesianRidge\n",
    "from datetime import datetime\n",
    "from scipy import stats\n",
    "import random"
   ]
  },
  {
   "cell_type": "code",
   "execution_count": 6,
   "metadata": {},
   "outputs": [],
   "source": [
    "import pandas as pd\n",
    "import seaborn as sns\n",
    "import numpy as np\n",
    "import matplotlib.pyplot as plt\n",
    "from sklearn.model_selection import TimeSeriesSplit\n",
    "from sklearn.ensemble import RandomForestRegressor,RandomForestClassifier\n",
    "from datetime import datetime\n",
    "import matplotlib.pyplot as plt\n",
    "from matplotlib.dates import DateFormatter\n",
    "from sklearn.metrics import mean_absolute_error,mean_squared_error\n",
    "from sklearn.metrics import r2_score,f1_score,recall_score,precision_score,accuracy_score\n",
    "from sklearn.model_selection import RandomizedSearchCV\n",
    "from tqdm import tqdm"
   ]
  },
  {
   "cell_type": "markdown",
   "metadata": {},
   "source": [
    "# Load Data"
   ]
  },
  {
   "cell_type": "code",
   "execution_count": null,
   "metadata": {},
   "outputs": [],
   "source": [
    "df = pd.read_csv('CRSP US Stock Returns.csv')\n",
    "df_monthly = pd.read_csv('US stock return data - Monthly.csv')\n",
    "df_WRDS = pd.read_csv('WRDS Financial Ratios.csv')"
   ]
  },
  {
   "cell_type": "code",
   "execution_count": null,
   "metadata": {},
   "outputs": [],
   "source": [
    "df_WRDS['permno'] = df_WRDS['permno'].astype('int64')\n",
    "df_monthly['PERMNO'] = df_monthly['PERMNO'].astype('int64')"
   ]
  },
  {
   "cell_type": "code",
   "execution_count": null,
   "metadata": {},
   "outputs": [],
   "source": [
    "df_merged = pd.merge(df_monthly,df_WRDS,how='right',left_on=['PERMNO','date'],right_on=['permno','public_date'])\n",
    "df_merged_ret = df_merged.dropna(subset=['RET'])"
   ]
  },
  {
   "cell_type": "code",
   "execution_count": null,
   "metadata": {},
   "outputs": [],
   "source": [
    "df_merged_ret_num = df_merged_ret[df_merged_ret['RET']!='C']\n",
    "df_merged_ret_num['RET'] = df_merged_ret_num['RET'].astype('float64')"
   ]
  },
  {
   "cell_type": "code",
   "execution_count": null,
   "metadata": {},
   "outputs": [],
   "source": [
    "df_preprocessed = df_merged_ret_num.drop(\n",
    "    columns=[\n",
    "        \"public_date\",\n",
    "        \"DLRET\",\n",
    "        \"adate\",\n",
    "        \"qdate\",\n",
    "        \"HSICIG\",\n",
    "        \"SHRCD\",\n",
    "        \"EXCHCD\",\n",
    "        \"permno\",\n",
    "        \"adv_sale\",\n",
    "        \"aftret_eq\",\n",
    "        \"aftret_equity\",\n",
    "        \"capital_ratio\",\n",
    "        \"cash_debt\",\n",
    "        \"cash_lt\",\n",
    "        \"cash_ratio\",\n",
    "        \"cfm\",\n",
    "        \"curr_debt\",\n",
    "        \"debt_assets\",\n",
    "        \"debt_at\",\n",
    "        \"debt_capital\",\n",
    "        \"debt_invcap\",\n",
    "        \"dltt_be\",\n",
    "        \"efftax\",\n",
    "        \"equity_invcap\",\n",
    "        \"fcf_ocf\",\n",
    "        \"GProf\",\n",
    "        \"int_debt\",\n",
    "        \"intcov\",\n",
    "        \"inv_turn\",\n",
    "        \"invt_act\",\n",
    "        \"lt_debt\",\n",
    "        \"lt_ppent\",\n",
    "        \"ocf_lct\",\n",
    "        \"opmad\",\n",
    "        \"opmbd\",\n",
    "        \"pay_turn\",\n",
    "        \"pcf\",\n",
    "        \"pe_exi\",\n",
    "        \"pe_inc\",\n",
    "        \"pe_op_basic\",\n",
    "        \"pe_op_dil\",\n",
    "        \"PEG_trailing\",\n",
    "        \"pretret_earnat\",\n",
    "        \"pretret_noa\",\n",
    "        \"profit_lct\",\n",
    "        \"ptpm\",\n",
    "        \"rect_act\",\n",
    "        \"rect_turn\",\n",
    "        \"roce\",\n",
    "        \"sale_equity\",\n",
    "        \"sale_invcap\",\n",
    "        \"short_debt\",\n",
    "        \"totdebt_invcap\",\n",
    "    ]\n",
    ")"
   ]
  },
  {
   "cell_type": "code",
   "execution_count": null,
   "metadata": {},
   "outputs": [],
   "source": [
    "def fix_divyield(divyield):\n",
    "    '''\n",
    "    input: Dividend yield, Object\n",
    "    Output: Float version of the column\n",
    "    Description: Remove string character % and convert to float\n",
    "    '''\n",
    "    if divyield == 'nan':\n",
    "        return np.nan\n",
    "    else:\n",
    "        return float(str(divyield).replace('%',''))"
   ]
  },
  {
   "cell_type": "code",
   "execution_count": null,
   "metadata": {},
   "outputs": [],
   "source": [
    "df_preprocessed['divyield'] = df_preprocessed.apply(lambda x: fix_divyield(x['divyield']),axis=1)"
   ]
  },
  {
   "cell_type": "code",
   "execution_count": null,
   "metadata": {},
   "outputs": [],
   "source": [
    "df_preprocessed['RET_shifted'] = df_preprocessed['RET'].shift(-1)"
   ]
  },
  {
   "cell_type": "code",
   "execution_count": null,
   "metadata": {},
   "outputs": [],
   "source": [
    "df_preprocessed = df_preprocessed.reset_index()\n",
    "df_preprocessed = df_preprocessed.set_index('PERMNO')\n",
    "df_preprocessed.sort_index(inplace=True)\n",
    "\n",
    "df_preprocessed_copy = df_preprocessed.copy()\n",
    "\n",
    "prev = 25881.0\n",
    "for index,row in tqdm(df_preprocessed_copy.iterrows(),total=df_preprocessed_copy.shape[0]):\n",
    "    if prev == index:\n",
    "        pass\n",
    "    else:\n",
    "        prev = index\n",
    "        df_preprocessed.loc[(df_preprocessed['date']==row['date'])&(df_preprocessed.index==index),'RET_shifted'] = np.nan"
   ]
  },
  {
   "cell_type": "code",
   "execution_count": null,
   "metadata": {},
   "outputs": [],
   "source": [
    "df_preprocessed = df_preprocessed.reset_index()\n",
    "df_preprocessed = df_preprocessed.set_index(['date','PERMNO'])\n",
    "df_preprocessed.sort_index(inplace=True)\n",
    "df_preprocessed = df_preprocessed.dropna(subset=['RET_shifted'])"
   ]
  },
  {
   "cell_type": "code",
   "execution_count": null,
   "metadata": {},
   "outputs": [],
   "source": [
    "df_preprocessed.to_csv('df_preprocessed.csv')"
   ]
  },
  {
   "cell_type": "markdown",
   "metadata": {},
   "source": [
    "## Load preprocessed data directly"
   ]
  },
  {
   "cell_type": "code",
   "execution_count": 7,
   "metadata": {},
   "outputs": [],
   "source": [
    "df_preprocessed = pd.read_csv('df_preprocessed.csv')\n",
    "df_preprocessed = df_preprocessed.set_index('PERMNO').sort_index()"
   ]
  },
  {
   "cell_type": "code",
   "execution_count": 8,
   "metadata": {},
   "outputs": [
    {
     "name": "stderr",
     "output_type": "stream",
     "text": [
      "/opt/conda/lib/python3.7/site-packages/pandas/core/series.py:726: RuntimeWarning: invalid value encountered in log\n",
      "  result = getattr(ufunc, method)(*inputs, **kwargs)\n"
     ]
    }
   ],
   "source": [
    "df_preprocessed['mom1m'] = np.log(df_preprocessed['PRC']/df_preprocessed['PRC'].shift(1))"
   ]
  },
  {
   "cell_type": "code",
   "execution_count": 9,
   "metadata": {},
   "outputs": [],
   "source": [
    "df_preprocessed = df_preprocessed.reset_index()\n",
    "df_preprocessed = df_preprocessed.set_index(['date','PERMNO'])"
   ]
  },
  {
   "cell_type": "code",
   "execution_count": 10,
   "metadata": {},
   "outputs": [],
   "source": [
    "df_preprocessed.sort_index(inplace=True)"
   ]
  },
  {
   "cell_type": "code",
   "execution_count": 12,
   "metadata": {},
   "outputs": [],
   "source": [
    "def normalize_features(group):\n",
    "    '''\n",
    "    Input:\n",
    "    Output:\n",
    "    Description: Normalise Values \n",
    "    '''\n",
    "    group[features] = ((group[features] - group[features].mean()) / group[features].std()).values\n",
    "\n",
    "    return group"
   ]
  },
  {
   "cell_type": "code",
   "execution_count": 18,
   "metadata": {},
   "outputs": [],
   "source": [
    "features = df_preprocessed.columns.tolist()"
   ]
  },
  {
   "cell_type": "code",
   "execution_count": 20,
   "metadata": {},
   "outputs": [],
   "source": [
    "features.remove('RET_shifted')"
   ]
  },
  {
   "cell_type": "code",
   "execution_count": 21,
   "metadata": {},
   "outputs": [],
   "source": [
    "df = df_preprocessed.groupby(level=0).apply(normalize_features)\n",
    "df['label'] = df.apply(lambda x: 0 if x['RET_shifted']<0 else 1,axis=1)"
   ]
  },
  {
   "cell_type": "code",
   "execution_count": 310,
   "metadata": {},
   "outputs": [],
   "source": [
    "percent_missing = df.isnull().sum() * 100 / len(df)\n",
    "missing_value_df = pd.DataFrame({'percent_missing': percent_missing})"
   ]
  },
  {
   "cell_type": "code",
   "execution_count": 312,
   "metadata": {},
   "outputs": [
    {
     "data": {
      "text/html": [
       "<div>\n",
       "<style scoped>\n",
       "    .dataframe tbody tr th:only-of-type {\n",
       "        vertical-align: middle;\n",
       "    }\n",
       "\n",
       "    .dataframe tbody tr th {\n",
       "        vertical-align: top;\n",
       "    }\n",
       "\n",
       "    .dataframe thead th {\n",
       "        text-align: right;\n",
       "    }\n",
       "</style>\n",
       "<table border=\"1\" class=\"dataframe\">\n",
       "  <thead>\n",
       "    <tr style=\"text-align: right;\">\n",
       "      <th></th>\n",
       "      <th>percent_missing</th>\n",
       "    </tr>\n",
       "  </thead>\n",
       "  <tbody>\n",
       "    <tr>\n",
       "      <th>divyield</th>\n",
       "      <td>61.328934</td>\n",
       "    </tr>\n",
       "    <tr>\n",
       "      <th>sale_nwc</th>\n",
       "      <td>27.311480</td>\n",
       "    </tr>\n",
       "    <tr>\n",
       "      <th>dpr</th>\n",
       "      <td>27.110888</td>\n",
       "    </tr>\n",
       "    <tr>\n",
       "      <th>cash_conversion</th>\n",
       "      <td>26.592157</td>\n",
       "    </tr>\n",
       "    <tr>\n",
       "      <th>int_totdebt</th>\n",
       "      <td>24.830309</td>\n",
       "    </tr>\n",
       "  </tbody>\n",
       "</table>\n",
       "</div>"
      ],
      "text/plain": [
       "                 percent_missing\n",
       "divyield               61.328934\n",
       "sale_nwc               27.311480\n",
       "dpr                    27.110888\n",
       "cash_conversion        26.592157\n",
       "int_totdebt            24.830309"
      ]
     },
     "execution_count": 312,
     "metadata": {},
     "output_type": "execute_result"
    }
   ],
   "source": [
    "missing_value_df.nlargest(5,columns='percent_missing')"
   ]
  },
  {
   "cell_type": "code",
   "execution_count": 290,
   "metadata": {},
   "outputs": [
    {
     "data": {
      "text/plain": [
       "<matplotlib.axes._subplots.AxesSubplot at 0x7f817c3eb310>"
      ]
     },
     "execution_count": 290,
     "metadata": {},
     "output_type": "execute_result"
    },
    {
     "data": {
      "image/png": "[encoded data removed]",
      "text/plain": [
       "<Figure size 1440x936 with 2 Axes>"
      ]
     },
     "metadata": {
      "needs_background": "light"
     },
     "output_type": "display_data"
    }
   ],
   "source": [
    "fig, ax = plt.subplots(figsize=(20,13))\n",
    "sns.heatmap(df.corr(),annot=False,ax=ax,fmt=\".1\")"
   ]
  },
  {
   "cell_type": "markdown",
   "metadata": {},
   "source": [
    "# Split Data"
   ]
  },
  {
   "cell_type": "code",
   "execution_count": 23,
   "metadata": {},
   "outputs": [],
   "source": [
    "training_set = df.loc[:'2012-12-31']\n",
    "testing_set = df.loc['2012-12-31':]\n",
    "X, y = training_set[features], training_set['RET_shifted']\n",
    "X_test, y_test = testing_set[features], testing_set['RET_shifted']"
   ]
  },
  {
   "cell_type": "markdown",
   "metadata": {},
   "source": [
    "# Missing Data Imputation"
   ]
  },
  {
   "cell_type": "code",
   "execution_count": 24,
   "metadata": {},
   "outputs": [
    {
     "name": "stderr",
     "output_type": "stream",
     "text": [
      "/opt/conda/lib/python3.7/site-packages/pandas/core/series.py:4523: SettingWithCopyWarning: \n",
      "A value is trying to be set on a copy of a slice from a DataFrame\n",
      "\n",
      "See the caveats in the documentation: https://pandas.pydata.org/pandas-docs/stable/user_guide/indexing.html#returning-a-view-versus-a-copy\n",
      "  downcast=downcast,\n"
     ]
    }
   ],
   "source": [
    "for column in X.columns.tolist():\n",
    "    if X[column].isna().sum() != 0:\n",
    "        X[column].fillna(np.mean(X[column]),inplace=True)"
   ]
  },
  {
   "cell_type": "code",
   "execution_count": 25,
   "metadata": {},
   "outputs": [],
   "source": [
    "for column in X_test.columns.tolist():\n",
    "    if X_test[column].isna().sum() != 0:\n",
    "        X_test[column].fillna(np.mean(X_test[column]),inplace=True)"
   ]
  },
  {
   "cell_type": "markdown",
   "metadata": {},
   "source": [
    "# Regression for t+1"
   ]
  },
  {
   "cell_type": "markdown",
   "metadata": {},
   "source": [
    "## Linear Regression"
   ]
  },
  {
   "cell_type": "code",
   "execution_count": 45,
   "metadata": {},
   "outputs": [],
   "source": [
    "X_lr = X.copy()\n",
    "y_lr = y.copy()\n",
    "X_test_lr = X_test.copy()\n",
    "y_test_lr = y_test.copy()"
   ]
  },
  {
   "cell_type": "code",
   "execution_count": 46,
   "metadata": {},
   "outputs": [],
   "source": [
    "import statsmodels.api as sm\n",
    "from sklearn.linear_model import LinearRegression"
   ]
  },
  {
   "cell_type": "code",
   "execution_count": 47,
   "metadata": {},
   "outputs": [],
   "source": [
    "results = sm.OLS(y_lr.values, X_lr.values).fit()"
   ]
  },
  {
   "cell_type": "code",
   "execution_count": 29,
   "metadata": {},
   "outputs": [
    {
     "data": {
      "text/html": [
       "<table class=\"simpletable\">\n",
       "<caption>OLS Regression Results</caption>\n",
       "<tr>\n",
       "  <th>Dep. Variable:</th>            <td>y</td>        <th>  R-squared (uncentered):</th>       <td>   0.003</td> \n",
       "</tr>\n",
       "<tr>\n",
       "  <th>Model:</th>                   <td>OLS</td>       <th>  Adj. R-squared (uncentered):</th>  <td>   0.003</td> \n",
       "</tr>\n",
       "<tr>\n",
       "  <th>Method:</th>             <td>Least Squares</td>  <th>  F-statistic:       </th>           <td>   159.3</td> \n",
       "</tr>\n",
       "<tr>\n",
       "  <th>Date:</th>             <td>Wed, 24 Mar 2021</td> <th>  Prob (F-statistic):</th>            <td>  0.00</td>  \n",
       "</tr>\n",
       "<tr>\n",
       "  <th>Time:</th>                 <td>13:47:01</td>     <th>  Log-Likelihood:    </th>          <td>4.1542e+05</td>\n",
       "</tr>\n",
       "<tr>\n",
       "  <th>No. Observations:</th>      <td>1547241</td>     <th>  AIC:               </th>          <td>-8.308e+05</td>\n",
       "</tr>\n",
       "<tr>\n",
       "  <th>Df Residuals:</th>          <td>1547212</td>     <th>  BIC:               </th>          <td>-8.304e+05</td>\n",
       "</tr>\n",
       "<tr>\n",
       "  <th>Df Model:</th>              <td>    29</td>      <th>                     </th>               <td> </td>    \n",
       "</tr>\n",
       "<tr>\n",
       "  <th>Covariance Type:</th>      <td>nonrobust</td>    <th>                     </th>               <td> </td>    \n",
       "</tr>\n",
       "</table>\n",
       "<table class=\"simpletable\">\n",
       "<tr>\n",
       "   <td></td>      <th>coef</th>     <th>std err</th>      <th>t</th>      <th>P>|t|</th>  <th>[0.025</th>    <th>0.975]</th>  \n",
       "</tr>\n",
       "<tr>\n",
       "  <th>x1</th>  <td>    0.0003</td> <td>    0.000</td> <td>    2.054</td> <td> 0.040</td> <td>  1.4e-05</td> <td>    0.001</td>\n",
       "</tr>\n",
       "<tr>\n",
       "  <th>x2</th>  <td>   -0.0037</td> <td>    0.000</td> <td>  -24.889</td> <td> 0.000</td> <td>   -0.004</td> <td>   -0.003</td>\n",
       "</tr>\n",
       "<tr>\n",
       "  <th>x3</th>  <td>   -0.0009</td> <td>    0.000</td> <td>   -6.139</td> <td> 0.000</td> <td>   -0.001</td> <td>   -0.001</td>\n",
       "</tr>\n",
       "<tr>\n",
       "  <th>x4</th>  <td>    0.0002</td> <td>    0.000</td> <td>    1.191</td> <td> 0.234</td> <td>   -0.000</td> <td>    0.000</td>\n",
       "</tr>\n",
       "<tr>\n",
       "  <th>x5</th>  <td> 2.848e-05</td> <td>    0.000</td> <td>    0.178</td> <td> 0.859</td> <td>   -0.000</td> <td>    0.000</td>\n",
       "</tr>\n",
       "<tr>\n",
       "  <th>x6</th>  <td>    0.0019</td> <td>    0.000</td> <td>   11.571</td> <td> 0.000</td> <td>    0.002</td> <td>    0.002</td>\n",
       "</tr>\n",
       "<tr>\n",
       "  <th>x7</th>  <td>    0.0004</td> <td>    0.000</td> <td>    1.940</td> <td> 0.052</td> <td>-3.99e-06</td> <td>    0.001</td>\n",
       "</tr>\n",
       "<tr>\n",
       "  <th>x8</th>  <td>    0.0004</td> <td>    0.000</td> <td>    1.939</td> <td> 0.052</td> <td>-3.86e-06</td> <td>    0.001</td>\n",
       "</tr>\n",
       "<tr>\n",
       "  <th>x9</th>  <td>   -0.0002</td> <td>    0.000</td> <td>   -1.039</td> <td> 0.299</td> <td>   -0.001</td> <td>    0.000</td>\n",
       "</tr>\n",
       "<tr>\n",
       "  <th>x10</th> <td>    0.0002</td> <td>    0.000</td> <td>    0.943</td> <td> 0.346</td> <td>   -0.000</td> <td>    0.001</td>\n",
       "</tr>\n",
       "<tr>\n",
       "  <th>x11</th> <td>   -0.0003</td> <td>    0.000</td> <td>   -1.638</td> <td> 0.101</td> <td>   -0.001</td> <td> 6.35e-05</td>\n",
       "</tr>\n",
       "<tr>\n",
       "  <th>x12</th> <td>    0.0028</td> <td>    0.000</td> <td>   16.104</td> <td> 0.000</td> <td>    0.002</td> <td>    0.003</td>\n",
       "</tr>\n",
       "<tr>\n",
       "  <th>x13</th> <td> 9.876e-05</td> <td>    0.000</td> <td>    0.631</td> <td> 0.528</td> <td>   -0.000</td> <td>    0.000</td>\n",
       "</tr>\n",
       "<tr>\n",
       "  <th>x14</th> <td>   -0.0004</td> <td>    0.000</td> <td>   -2.695</td> <td> 0.007</td> <td>   -0.001</td> <td>   -0.000</td>\n",
       "</tr>\n",
       "<tr>\n",
       "  <th>x15</th> <td>    0.0007</td> <td>    0.000</td> <td>    3.964</td> <td> 0.000</td> <td>    0.000</td> <td>    0.001</td>\n",
       "</tr>\n",
       "<tr>\n",
       "  <th>x16</th> <td>   -0.0004</td> <td>    0.000</td> <td>   -1.814</td> <td> 0.070</td> <td>   -0.001</td> <td> 2.96e-05</td>\n",
       "</tr>\n",
       "<tr>\n",
       "  <th>x17</th> <td>   -0.0001</td> <td>    0.000</td> <td>   -0.865</td> <td> 0.387</td> <td>   -0.000</td> <td>    0.000</td>\n",
       "</tr>\n",
       "<tr>\n",
       "  <th>x18</th> <td>   -0.0002</td> <td>    0.000</td> <td>   -1.181</td> <td> 0.238</td> <td>   -0.001</td> <td>    0.000</td>\n",
       "</tr>\n",
       "<tr>\n",
       "  <th>x19</th> <td>    0.0035</td> <td>    0.001</td> <td>    3.649</td> <td> 0.000</td> <td>    0.002</td> <td>    0.005</td>\n",
       "</tr>\n",
       "<tr>\n",
       "  <th>x20</th> <td>   -0.0027</td> <td>    0.001</td> <td>   -2.841</td> <td> 0.004</td> <td>   -0.005</td> <td>   -0.001</td>\n",
       "</tr>\n",
       "<tr>\n",
       "  <th>x21</th> <td> 3.423e-05</td> <td>    0.000</td> <td>    0.191</td> <td> 0.848</td> <td>   -0.000</td> <td>    0.000</td>\n",
       "</tr>\n",
       "<tr>\n",
       "  <th>x22</th> <td>    0.0017</td> <td>    0.000</td> <td>   10.409</td> <td> 0.000</td> <td>    0.001</td> <td>    0.002</td>\n",
       "</tr>\n",
       "<tr>\n",
       "  <th>x23</th> <td>   -0.0001</td> <td>    0.000</td> <td>   -0.805</td> <td> 0.421</td> <td>   -0.000</td> <td>    0.000</td>\n",
       "</tr>\n",
       "<tr>\n",
       "  <th>x24</th> <td>    0.0004</td> <td>    0.000</td> <td>    1.969</td> <td> 0.049</td> <td> 1.64e-06</td> <td>    0.001</td>\n",
       "</tr>\n",
       "<tr>\n",
       "  <th>x25</th> <td>   -0.0002</td> <td>    0.000</td> <td>   -1.194</td> <td> 0.233</td> <td>   -0.000</td> <td>    0.000</td>\n",
       "</tr>\n",
       "<tr>\n",
       "  <th>x26</th> <td>    0.0017</td> <td>    0.000</td> <td>   10.740</td> <td> 0.000</td> <td>    0.001</td> <td>    0.002</td>\n",
       "</tr>\n",
       "<tr>\n",
       "  <th>x27</th> <td>   -0.0010</td> <td>    0.000</td> <td>   -5.694</td> <td> 0.000</td> <td>   -0.001</td> <td>   -0.001</td>\n",
       "</tr>\n",
       "<tr>\n",
       "  <th>x28</th> <td>    0.0001</td> <td>    0.000</td> <td>    0.441</td> <td> 0.659</td> <td>   -0.000</td> <td>    0.001</td>\n",
       "</tr>\n",
       "<tr>\n",
       "  <th>x29</th> <td>   -0.0086</td> <td>    0.000</td> <td>  -51.704</td> <td> 0.000</td> <td>   -0.009</td> <td>   -0.008</td>\n",
       "</tr>\n",
       "</table>\n",
       "<table class=\"simpletable\">\n",
       "<tr>\n",
       "  <th>Omnibus:</th>       <td>1812919.568</td> <th>  Durbin-Watson:     </th>    <td>   1.762</td>   \n",
       "</tr>\n",
       "<tr>\n",
       "  <th>Prob(Omnibus):</th>   <td> 0.000</td>    <th>  Jarque-Bera (JB):  </th> <td>2020129830.283</td>\n",
       "</tr>\n",
       "<tr>\n",
       "  <th>Skew:</th>            <td> 5.364</td>    <th>  Prob(JB):          </th>    <td>    0.00</td>   \n",
       "</tr>\n",
       "<tr>\n",
       "  <th>Kurtosis:</th>        <td>179.692</td>   <th>  Cond. No.          </th>    <td>    14.5</td>   \n",
       "</tr>\n",
       "</table><br/><br/>Warnings:<br/>[1] Standard Errors assume that the covariance matrix of the errors is correctly specified."
      ],
      "text/plain": [
       "<class 'statsmodels.iolib.summary.Summary'>\n",
       "\"\"\"\n",
       "                                 OLS Regression Results                                \n",
       "=======================================================================================\n",
       "Dep. Variable:                      y   R-squared (uncentered):                   0.003\n",
       "Model:                            OLS   Adj. R-squared (uncentered):              0.003\n",
       "Method:                 Least Squares   F-statistic:                              159.3\n",
       "Date:                Wed, 24 Mar 2021   Prob (F-statistic):                        0.00\n",
       "Time:                        13:47:01   Log-Likelihood:                      4.1542e+05\n",
       "No. Observations:             1547241   AIC:                                 -8.308e+05\n",
       "Df Residuals:                 1547212   BIC:                                 -8.304e+05\n",
       "Df Model:                          29                                                  \n",
       "Covariance Type:            nonrobust                                                  \n",
       "==============================================================================\n",
       "                 coef    std err          t      P>|t|      [0.025      0.975]\n",
       "------------------------------------------------------------------------------\n",
       "x1             0.0003      0.000      2.054      0.040     1.4e-05       0.001\n",
       "x2            -0.0037      0.000    -24.889      0.000      -0.004      -0.003\n",
       "x3            -0.0009      0.000     -6.139      0.000      -0.001      -0.001\n",
       "x4             0.0002      0.000      1.191      0.234      -0.000       0.000\n",
       "x5          2.848e-05      0.000      0.178      0.859      -0.000       0.000\n",
       "x6             0.0019      0.000     11.571      0.000       0.002       0.002\n",
       "x7             0.0004      0.000      1.940      0.052   -3.99e-06       0.001\n",
       "x8             0.0004      0.000      1.939      0.052   -3.86e-06       0.001\n",
       "x9            -0.0002      0.000     -1.039      0.299      -0.001       0.000\n",
       "x10            0.0002      0.000      0.943      0.346      -0.000       0.001\n",
       "x11           -0.0003      0.000     -1.638      0.101      -0.001    6.35e-05\n",
       "x12            0.0028      0.000     16.104      0.000       0.002       0.003\n",
       "x13         9.876e-05      0.000      0.631      0.528      -0.000       0.000\n",
       "x14           -0.0004      0.000     -2.695      0.007      -0.001      -0.000\n",
       "x15            0.0007      0.000      3.964      0.000       0.000       0.001\n",
       "x16           -0.0004      0.000     -1.814      0.070      -0.001    2.96e-05\n",
       "x17           -0.0001      0.000     -0.865      0.387      -0.000       0.000\n",
       "x18           -0.0002      0.000     -1.181      0.238      -0.001       0.000\n",
       "x19            0.0035      0.001      3.649      0.000       0.002       0.005\n",
       "x20           -0.0027      0.001     -2.841      0.004      -0.005      -0.001\n",
       "x21         3.423e-05      0.000      0.191      0.848      -0.000       0.000\n",
       "x22            0.0017      0.000     10.409      0.000       0.001       0.002\n",
       "x23           -0.0001      0.000     -0.805      0.421      -0.000       0.000\n",
       "x24            0.0004      0.000      1.969      0.049    1.64e-06       0.001\n",
       "x25           -0.0002      0.000     -1.194      0.233      -0.000       0.000\n",
       "x26            0.0017      0.000     10.740      0.000       0.001       0.002\n",
       "x27           -0.0010      0.000     -5.694      0.000      -0.001      -0.001\n",
       "x28            0.0001      0.000      0.441      0.659      -0.000       0.001\n",
       "x29           -0.0086      0.000    -51.704      0.000      -0.009      -0.008\n",
       "==============================================================================\n",
       "Omnibus:                  1812919.568   Durbin-Watson:                   1.762\n",
       "Prob(Omnibus):                  0.000   Jarque-Bera (JB):       2020129830.283\n",
       "Skew:                           5.364   Prob(JB):                         0.00\n",
       "Kurtosis:                     179.692   Cond. No.                         14.5\n",
       "==============================================================================\n",
       "\n",
       "Warnings:\n",
       "[1] Standard Errors assume that the covariance matrix of the errors is correctly specified.\n",
       "\"\"\""
      ]
     },
     "execution_count": 29,
     "metadata": {},
     "output_type": "execute_result"
    }
   ],
   "source": [
    "results.summary()"
   ]
  },
  {
   "cell_type": "code",
   "execution_count": 51,
   "metadata": {},
   "outputs": [],
   "source": [
    "reg = LinearRegression().fit(X_lr, y_lr)\n",
    "y_pred_lr = reg.predict(X_test_lr)"
   ]
  },
  {
   "cell_type": "markdown",
   "metadata": {},
   "source": [
    "### Metrics - Linear Regression"
   ]
  },
  {
   "cell_type": "code",
   "execution_count": 64,
   "metadata": {},
   "outputs": [
    {
     "name": "stdout",
     "output_type": "stream",
     "text": [
      "The R2 score is: 0.0009462732278250341\n",
      "The RMSE error is: 0.1820071279017174\n",
      "The MAE is: 0.10208056779376116\n"
     ]
    }
   ],
   "source": [
    "print('The R2 score is:',r2_score(y_test_lr,y_pred_lr))\n",
    "print('The RMSE error is:',np.sqrt(mean_squared_error(y_test_lr,y_pred_lr)))\n",
    "print('The MAE is:',mean_absolute_error(y_test_lr,y_pred_lr))"
   ]
  },
  {
   "cell_type": "code",
   "execution_count": 73,
   "metadata": {},
   "outputs": [
    {
     "name": "stdout",
     "output_type": "stream",
     "text": [
      "R2 0.0009462732278250341\n"
     ]
    }
   ],
   "source": [
    "print('R2',reg.score(X_test_lr,y_test_lr))"
   ]
  },
  {
   "cell_type": "markdown",
   "metadata": {},
   "source": [
    "## Light GBM"
   ]
  },
  {
   "cell_type": "code",
   "execution_count": 67,
   "metadata": {},
   "outputs": [],
   "source": [
    "X_gbm = X.copy()\n",
    "y_gbm = y.copy()\n",
    "X_test_gbm = X_test.copy()\n",
    "y_test_gbm = y_test.copy()"
   ]
  },
  {
   "cell_type": "code",
   "execution_count": 359,
   "metadata": {},
   "outputs": [],
   "source": [
    "hyper_params = {\n",
    "    'task': 'train',\n",
    "    'boosting_type': 'gbdt',\n",
    "    'objective': 'regression',\n",
    "    'metric': ['l2'], #why auc?\n",
    "    'learning_rate': 0.001,\n",
    "    'verbose': 2,\n",
    "    \"max_depth\": 13,\n",
    " #   \"num_leaves\": 25,  \n",
    "    \"max_bin\": 64,\n",
    "    \"num_iterations\": 300,\n",
    "    \"n_estimators\": 100\n",
    "}"
   ]
  },
  {
   "cell_type": "code",
   "execution_count": 360,
   "metadata": {},
   "outputs": [],
   "source": [
    "def train_predict_lgbm_regression(hyper_params,X_train,y_train,X_test):\n",
    "    '''\n",
    "    input: Hyperparameters & training data for lightgbm\n",
    "    output: model & predictions\n",
    "    Description: Train a light GBM model and calculate the predictions\n",
    "    '''\n",
    "    gbm = lgb.LGBMRegressor(**hyper_params)\n",
    "    gbm.fit(X_train, y_train)\n",
    "    y_pred = gbm.predict(X_test, num_iteration=gbm.best_iteration_)\n",
    "\n",
    "    return gbm,y_pred"
   ]
  },
  {
   "cell_type": "code",
   "execution_count": 361,
   "metadata": {},
   "outputs": [
    {
     "name": "stderr",
     "output_type": "stream",
     "text": [
      "/opt/conda/lib/python3.7/site-packages/lightgbm/engine.py:151: UserWarning: Found `num_iterations` in params. Will use it instead of argument\n",
      "  warnings.warn(\"Found `{}` in params. Will use it instead of argument\".format(alias))\n"
     ]
    },
    {
     "name": "stdout",
     "output_type": "stream",
     "text": [
      "[LightGBM] [Warning] Accuracy may be bad since you didn't explicitly set num_leaves OR 2^max_depth > num_leaves. (num_leaves=31).\n",
      "[LightGBM] [Warning] Accuracy may be bad since you didn't explicitly set num_leaves OR 2^max_depth > num_leaves. (num_leaves=31).\n",
      "[LightGBM] [Debug] Dataset::GetMultiBinFromAllFeatures: sparse rate 0.000000\n",
      "[LightGBM] [Debug] init for col-wise cost 0.000113 seconds, init for row-wise cost 0.135315 seconds\n",
      "[LightGBM] [Warning] Auto-choosing row-wise multi-threading, the overhead of testing was 0.100541 seconds.\n",
      "You can set `force_row_wise=true` to remove the overhead.\n",
      "And if memory is not enough, you can set `force_col_wise=true`.\n",
      "[LightGBM] [Debug] Using Dense Multi-Val Bin\n",
      "[LightGBM] [Info] Total Bins 1856\n",
      "[LightGBM] [Info] Number of data points in the train set: 1547241, number of used features: 29\n",
      "[LightGBM] [Info] Start training from score 0.013463\n",
      "[LightGBM] [Debug] Trained a tree with leaves = 31 and max_depth = 9\n",
      "[LightGBM] [Debug] Trained a tree with leaves = 31 and max_depth = 9\n",
      "[LightGBM] [Debug] Trained a tree with leaves = 31 and max_depth = 9\n",
      "[LightGBM] [Debug] Trained a tree with leaves = 31 and max_depth = 9\n",
      "[LightGBM] [Debug] Trained a tree with leaves = 31 and max_depth = 9\n",
      "[LightGBM] [Debug] Trained a tree with leaves = 31 and max_depth = 9\n",
      "[LightGBM] [Debug] Trained a tree with leaves = 31 and max_depth = 9\n",
      "[LightGBM] [Debug] Trained a tree with leaves = 31 and max_depth = 9\n",
      "[LightGBM] [Debug] Trained a tree with leaves = 31 and max_depth = 9\n",
      "[LightGBM] [Debug] Trained a tree with leaves = 31 and max_depth = 9\n",
      "[LightGBM] [Debug] Trained a tree with leaves = 31 and max_depth = 9\n",
      "[LightGBM] [Debug] Trained a tree with leaves = 31 and max_depth = 9\n",
      "[LightGBM] [Debug] Trained a tree with leaves = 31 and max_depth = 9\n",
      "[LightGBM] [Debug] Trained a tree with leaves = 31 and max_depth = 9\n",
      "[LightGBM] [Debug] Trained a tree with leaves = 31 and max_depth = 9\n",
      "[LightGBM] [Debug] Trained a tree with leaves = 31 and max_depth = 9\n",
      "[LightGBM] [Debug] Trained a tree with leaves = 31 and max_depth = 9\n",
      "[LightGBM] [Debug] Trained a tree with leaves = 31 and max_depth = 9\n",
      "[LightGBM] [Debug] Trained a tree with leaves = 31 and max_depth = 9\n",
      "[LightGBM] [Debug] Trained a tree with leaves = 31 and max_depth = 9\n",
      "[LightGBM] [Debug] Trained a tree with leaves = 31 and max_depth = 9\n",
      "[LightGBM] [Debug] Trained a tree with leaves = 31 and max_depth = 9\n",
      "[LightGBM] [Debug] Trained a tree with leaves = 31 and max_depth = 9\n",
      "[LightGBM] [Debug] Trained a tree with leaves = 31 and max_depth = 9\n",
      "[LightGBM] [Debug] Trained a tree with leaves = 31 and max_depth = 9\n",
      "[LightGBM] [Debug] Trained a tree with leaves = 31 and max_depth = 9\n",
      "[LightGBM] [Debug] Trained a tree with leaves = 31 and max_depth = 9\n",
      "[LightGBM] [Debug] Trained a tree with leaves = 31 and max_depth = 9\n",
      "[LightGBM] [Debug] Trained a tree with leaves = 31 and max_depth = 9\n",
      "[LightGBM] [Debug] Trained a tree with leaves = 31 and max_depth = 9\n",
      "[LightGBM] [Debug] Trained a tree with leaves = 31 and max_depth = 9\n",
      "[LightGBM] [Debug] Trained a tree with leaves = 31 and max_depth = 9\n",
      "[LightGBM] [Debug] Trained a tree with leaves = 31 and max_depth = 9\n",
      "[LightGBM] [Debug] Trained a tree with leaves = 31 and max_depth = 9\n",
      "[LightGBM] [Debug] Trained a tree with leaves = 31 and max_depth = 9\n",
      "[LightGBM] [Debug] Trained a tree with leaves = 31 and max_depth = 9\n",
      "[LightGBM] [Debug] Trained a tree with leaves = 31 and max_depth = 9\n",
      "[LightGBM] [Debug] Trained a tree with leaves = 31 and max_depth = 9\n",
      "[LightGBM] [Debug] Trained a tree with leaves = 31 and max_depth = 9\n",
      "[LightGBM] [Debug] Trained a tree with leaves = 31 and max_depth = 9\n",
      "[LightGBM] [Debug] Trained a tree with leaves = 31 and max_depth = 9\n",
      "[LightGBM] [Debug] Trained a tree with leaves = 31 and max_depth = 9\n",
      "[LightGBM] [Debug] Trained a tree with leaves = 31 and max_depth = 9\n",
      "[LightGBM] [Debug] Trained a tree with leaves = 31 and max_depth = 9\n",
      "[LightGBM] [Debug] Trained a tree with leaves = 31 and max_depth = 9\n",
      "[LightGBM] [Debug] Trained a tree with leaves = 31 and max_depth = 9\n",
      "[LightGBM] [Debug] Trained a tree with leaves = 31 and max_depth = 9\n",
      "[LightGBM] [Debug] Trained a tree with leaves = 31 and max_depth = 9\n",
      "[LightGBM] [Debug] Trained a tree with leaves = 31 and max_depth = 9\n",
      "[LightGBM] [Debug] Trained a tree with leaves = 31 and max_depth = 9\n",
      "[LightGBM] [Debug] Trained a tree with leaves = 31 and max_depth = 9\n",
      "[LightGBM] [Debug] Trained a tree with leaves = 31 and max_depth = 9\n",
      "[LightGBM] [Debug] Trained a tree with leaves = 31 and max_depth = 9\n",
      "[LightGBM] [Debug] Trained a tree with leaves = 31 and max_depth = 9\n",
      "[LightGBM] [Debug] Trained a tree with leaves = 31 and max_depth = 10\n",
      "[LightGBM] [Debug] Trained a tree with leaves = 31 and max_depth = 9\n",
      "[LightGBM] [Debug] Trained a tree with leaves = 31 and max_depth = 9\n",
      "[LightGBM] [Debug] Trained a tree with leaves = 31 and max_depth = 9\n",
      "[LightGBM] [Debug] Trained a tree with leaves = 31 and max_depth = 9\n",
      "[LightGBM] [Debug] Trained a tree with leaves = 31 and max_depth = 9\n",
      "[LightGBM] [Debug] Trained a tree with leaves = 31 and max_depth = 9\n",
      "[LightGBM] [Debug] Trained a tree with leaves = 31 and max_depth = 9\n",
      "[LightGBM] [Debug] Trained a tree with leaves = 31 and max_depth = 9\n",
      "[LightGBM] [Debug] Trained a tree with leaves = 31 and max_depth = 9\n",
      "[LightGBM] [Debug] Trained a tree with leaves = 31 and max_depth = 9\n",
      "[LightGBM] [Debug] Trained a tree with leaves = 31 and max_depth = 9\n",
      "[LightGBM] [Debug] Trained a tree with leaves = 31 and max_depth = 9\n",
      "[LightGBM] [Debug] Trained a tree with leaves = 31 and max_depth = 9\n",
      "[LightGBM] [Debug] Trained a tree with leaves = 31 and max_depth = 9\n",
      "[LightGBM] [Debug] Trained a tree with leaves = 31 and max_depth = 9\n",
      "[LightGBM] [Debug] Trained a tree with leaves = 31 and max_depth = 9\n",
      "[LightGBM] [Debug] Trained a tree with leaves = 31 and max_depth = 9\n",
      "[LightGBM] [Debug] Trained a tree with leaves = 31 and max_depth = 9\n",
      "[LightGBM] [Debug] Trained a tree with leaves = 31 and max_depth = 9\n",
      "[LightGBM] [Debug] Trained a tree with leaves = 31 and max_depth = 8\n",
      "[LightGBM] [Debug] Trained a tree with leaves = 31 and max_depth = 9\n",
      "[LightGBM] [Debug] Trained a tree with leaves = 31 and max_depth = 13\n",
      "[LightGBM] [Debug] Trained a tree with leaves = 31 and max_depth = 9\n",
      "[LightGBM] [Debug] Trained a tree with leaves = 31 and max_depth = 13\n",
      "[LightGBM] [Debug] Trained a tree with leaves = 31 and max_depth = 9\n",
      "[LightGBM] [Debug] Trained a tree with leaves = 31 and max_depth = 13\n",
      "[LightGBM] [Debug] Trained a tree with leaves = 31 and max_depth = 9\n",
      "[LightGBM] [Debug] Trained a tree with leaves = 31 and max_depth = 9\n",
      "[LightGBM] [Debug] Trained a tree with leaves = 31 and max_depth = 13\n",
      "[LightGBM] [Debug] Trained a tree with leaves = 31 and max_depth = 9\n",
      "[LightGBM] [Debug] Trained a tree with leaves = 31 and max_depth = 13\n",
      "[LightGBM] [Debug] Trained a tree with leaves = 31 and max_depth = 9\n",
      "[LightGBM] [Debug] Trained a tree with leaves = 31 and max_depth = 13\n",
      "[LightGBM] [Debug] Trained a tree with leaves = 31 and max_depth = 9\n",
      "[LightGBM] [Debug] Trained a tree with leaves = 31 and max_depth = 13\n",
      "[LightGBM] [Debug] Trained a tree with leaves = 31 and max_depth = 9\n",
      "[LightGBM] [Debug] Trained a tree with leaves = 31 and max_depth = 13\n",
      "[LightGBM] [Debug] Trained a tree with leaves = 31 and max_depth = 9\n",
      "[LightGBM] [Debug] Trained a tree with leaves = 31 and max_depth = 9\n",
      "[LightGBM] [Debug] Trained a tree with leaves = 31 and max_depth = 13\n",
      "[LightGBM] [Debug] Trained a tree with leaves = 31 and max_depth = 9\n",
      "[LightGBM] [Debug] Trained a tree with leaves = 31 and max_depth = 13\n",
      "[LightGBM] [Debug] Trained a tree with leaves = 31 and max_depth = 9\n",
      "[LightGBM] [Debug] Trained a tree with leaves = 31 and max_depth = 13\n",
      "[LightGBM] [Debug] Trained a tree with leaves = 31 and max_depth = 9\n",
      "[LightGBM] [Debug] Trained a tree with leaves = 31 and max_depth = 13\n",
      "[LightGBM] [Debug] Trained a tree with leaves = 31 and max_depth = 9\n",
      "[LightGBM] [Debug] Trained a tree with leaves = 31 and max_depth = 13\n",
      "[LightGBM] [Debug] Trained a tree with leaves = 31 and max_depth = 9\n",
      "[LightGBM] [Debug] Trained a tree with leaves = 31 and max_depth = 13\n",
      "[LightGBM] [Debug] Trained a tree with leaves = 31 and max_depth = 13\n",
      "[LightGBM] [Debug] Trained a tree with leaves = 31 and max_depth = 13\n",
      "[LightGBM] [Debug] Trained a tree with leaves = 31 and max_depth = 13\n",
      "[LightGBM] [Debug] Trained a tree with leaves = 31 and max_depth = 12\n",
      "[LightGBM] [Debug] Trained a tree with leaves = 31 and max_depth = 13\n",
      "[LightGBM] [Debug] Trained a tree with leaves = 31 and max_depth = 12\n",
      "[LightGBM] [Debug] Trained a tree with leaves = 31 and max_depth = 9\n",
      "[LightGBM] [Debug] Trained a tree with leaves = 31 and max_depth = 12\n",
      "[LightGBM] [Debug] Trained a tree with leaves = 31 and max_depth = 13\n",
      "[LightGBM] [Debug] Trained a tree with leaves = 31 and max_depth = 12\n",
      "[LightGBM] [Debug] Trained a tree with leaves = 31 and max_depth = 13\n",
      "[LightGBM] [Debug] Trained a tree with leaves = 31 and max_depth = 12\n",
      "[LightGBM] [Debug] Trained a tree with leaves = 31 and max_depth = 13\n",
      "[LightGBM] [Debug] Trained a tree with leaves = 31 and max_depth = 12\n",
      "[LightGBM] [Debug] Trained a tree with leaves = 31 and max_depth = 9\n",
      "[LightGBM] [Debug] Trained a tree with leaves = 31 and max_depth = 12\n",
      "[LightGBM] [Debug] Trained a tree with leaves = 31 and max_depth = 13\n",
      "[LightGBM] [Debug] Trained a tree with leaves = 31 and max_depth = 12\n",
      "[LightGBM] [Debug] Trained a tree with leaves = 31 and max_depth = 13\n",
      "[LightGBM] [Debug] Trained a tree with leaves = 31 and max_depth = 12\n",
      "[LightGBM] [Debug] Trained a tree with leaves = 31 and max_depth = 13\n",
      "[LightGBM] [Debug] Trained a tree with leaves = 31 and max_depth = 12\n",
      "[LightGBM] [Debug] Trained a tree with leaves = 31 and max_depth = 13\n",
      "[LightGBM] [Debug] Trained a tree with leaves = 31 and max_depth = 12\n",
      "[LightGBM] [Debug] Trained a tree with leaves = 31 and max_depth = 13\n",
      "[LightGBM] [Debug] Trained a tree with leaves = 31 and max_depth = 12\n",
      "[LightGBM] [Debug] Trained a tree with leaves = 31 and max_depth = 13\n",
      "[LightGBM] [Debug] Trained a tree with leaves = 31 and max_depth = 12\n",
      "[LightGBM] [Debug] Trained a tree with leaves = 31 and max_depth = 9\n",
      "[LightGBM] [Debug] Trained a tree with leaves = 31 and max_depth = 12\n",
      "[LightGBM] [Debug] Trained a tree with leaves = 31 and max_depth = 13\n",
      "[LightGBM] [Debug] Trained a tree with leaves = 31 and max_depth = 12\n",
      "[LightGBM] [Debug] Trained a tree with leaves = 31 and max_depth = 13\n",
      "[LightGBM] [Debug] Trained a tree with leaves = 31 and max_depth = 12\n",
      "[LightGBM] [Debug] Trained a tree with leaves = 31 and max_depth = 13\n",
      "[LightGBM] [Debug] Trained a tree with leaves = 31 and max_depth = 12\n",
      "[LightGBM] [Debug] Trained a tree with leaves = 31 and max_depth = 9\n",
      "[LightGBM] [Debug] Trained a tree with leaves = 31 and max_depth = 12\n",
      "[LightGBM] [Debug] Trained a tree with leaves = 31 and max_depth = 13\n",
      "[LightGBM] [Debug] Trained a tree with leaves = 31 and max_depth = 12\n",
      "[LightGBM] [Debug] Trained a tree with leaves = 31 and max_depth = 13\n",
      "[LightGBM] [Debug] Trained a tree with leaves = 31 and max_depth = 12\n",
      "[LightGBM] [Debug] Trained a tree with leaves = 31 and max_depth = 13\n",
      "[LightGBM] [Debug] Trained a tree with leaves = 31 and max_depth = 12\n",
      "[LightGBM] [Debug] Trained a tree with leaves = 31 and max_depth = 9\n",
      "[LightGBM] [Debug] Trained a tree with leaves = 31 and max_depth = 12\n",
      "[LightGBM] [Debug] Trained a tree with leaves = 31 and max_depth = 13\n",
      "[LightGBM] [Debug] Trained a tree with leaves = 31 and max_depth = 12\n",
      "[LightGBM] [Debug] Trained a tree with leaves = 31 and max_depth = 13\n",
      "[LightGBM] [Debug] Trained a tree with leaves = 31 and max_depth = 12\n",
      "[LightGBM] [Debug] Trained a tree with leaves = 31 and max_depth = 9\n",
      "[LightGBM] [Debug] Trained a tree with leaves = 31 and max_depth = 12\n",
      "[LightGBM] [Debug] Trained a tree with leaves = 31 and max_depth = 13\n",
      "[LightGBM] [Debug] Trained a tree with leaves = 31 and max_depth = 12\n",
      "[LightGBM] [Debug] Trained a tree with leaves = 31 and max_depth = 13\n",
      "[LightGBM] [Debug] Trained a tree with leaves = 31 and max_depth = 12\n",
      "[LightGBM] [Debug] Trained a tree with leaves = 31 and max_depth = 13\n",
      "[LightGBM] [Debug] Trained a tree with leaves = 31 and max_depth = 12\n",
      "[LightGBM] [Debug] Trained a tree with leaves = 31 and max_depth = 9\n",
      "[LightGBM] [Debug] Trained a tree with leaves = 31 and max_depth = 12\n",
      "[LightGBM] [Debug] Trained a tree with leaves = 31 and max_depth = 13\n",
      "[LightGBM] [Debug] Trained a tree with leaves = 31 and max_depth = 12\n",
      "[LightGBM] [Debug] Trained a tree with leaves = 31 and max_depth = 13\n",
      "[LightGBM] [Debug] Trained a tree with leaves = 31 and max_depth = 12\n",
      "[LightGBM] [Debug] Trained a tree with leaves = 31 and max_depth = 13\n",
      "[LightGBM] [Debug] Trained a tree with leaves = 31 and max_depth = 12\n",
      "[LightGBM] [Debug] Trained a tree with leaves = 31 and max_depth = 9\n",
      "[LightGBM] [Debug] Trained a tree with leaves = 31 and max_depth = 13\n",
      "[LightGBM] [Debug] Trained a tree with leaves = 31 and max_depth = 13\n",
      "[LightGBM] [Debug] Trained a tree with leaves = 31 and max_depth = 13\n",
      "[LightGBM] [Debug] Trained a tree with leaves = 31 and max_depth = 13\n",
      "[LightGBM] [Debug] Trained a tree with leaves = 31 and max_depth = 13\n",
      "[LightGBM] [Debug] Trained a tree with leaves = 31 and max_depth = 13\n",
      "[LightGBM] [Debug] Trained a tree with leaves = 31 and max_depth = 13\n",
      "[LightGBM] [Debug] Trained a tree with leaves = 31 and max_depth = 13\n",
      "[LightGBM] [Debug] Trained a tree with leaves = 31 and max_depth = 12\n",
      "[LightGBM] [Debug] Trained a tree with leaves = 31 and max_depth = 13\n",
      "[LightGBM] [Debug] Trained a tree with leaves = 31 and max_depth = 12\n",
      "[LightGBM] [Debug] Trained a tree with leaves = 31 and max_depth = 9\n",
      "[LightGBM] [Debug] Trained a tree with leaves = 31 and max_depth = 12\n",
      "[LightGBM] [Debug] Trained a tree with leaves = 31 and max_depth = 13\n",
      "[LightGBM] [Debug] Trained a tree with leaves = 31 and max_depth = 13\n",
      "[LightGBM] [Debug] Trained a tree with leaves = 31 and max_depth = 12\n",
      "[LightGBM] [Debug] Trained a tree with leaves = 31 and max_depth = 13\n",
      "[LightGBM] [Debug] Trained a tree with leaves = 31 and max_depth = 12\n",
      "[LightGBM] [Debug] Trained a tree with leaves = 31 and max_depth = 13\n",
      "[LightGBM] [Debug] Trained a tree with leaves = 31 and max_depth = 9\n",
      "[LightGBM] [Debug] Trained a tree with leaves = 31 and max_depth = 12\n",
      "[LightGBM] [Debug] Trained a tree with leaves = 31 and max_depth = 13\n",
      "[LightGBM] [Debug] Trained a tree with leaves = 31 and max_depth = 13\n",
      "[LightGBM] [Debug] Trained a tree with leaves = 31 and max_depth = 13\n",
      "[LightGBM] [Debug] Trained a tree with leaves = 31 and max_depth = 9\n",
      "[LightGBM] [Debug] Trained a tree with leaves = 31 and max_depth = 13\n",
      "[LightGBM] [Debug] Trained a tree with leaves = 31 and max_depth = 13\n",
      "[LightGBM] [Debug] Trained a tree with leaves = 31 and max_depth = 13\n",
      "[LightGBM] [Debug] Trained a tree with leaves = 31 and max_depth = 13\n",
      "[LightGBM] [Debug] Trained a tree with leaves = 31 and max_depth = 13\n",
      "[LightGBM] [Debug] Trained a tree with leaves = 31 and max_depth = 13\n",
      "[LightGBM] [Debug] Trained a tree with leaves = 31 and max_depth = 13\n",
      "[LightGBM] [Debug] Trained a tree with leaves = 31 and max_depth = 13\n",
      "[LightGBM] [Debug] Trained a tree with leaves = 31 and max_depth = 13\n",
      "[LightGBM] [Debug] Trained a tree with leaves = 31 and max_depth = 13\n",
      "[LightGBM] [Debug] Trained a tree with leaves = 31 and max_depth = 13\n",
      "[LightGBM] [Debug] Trained a tree with leaves = 31 and max_depth = 13\n",
      "[LightGBM] [Debug] Trained a tree with leaves = 31 and max_depth = 13\n",
      "[LightGBM] [Debug] Trained a tree with leaves = 31 and max_depth = 13\n",
      "[LightGBM] [Debug] Trained a tree with leaves = 31 and max_depth = 13\n",
      "[LightGBM] [Debug] Trained a tree with leaves = 31 and max_depth = 13\n",
      "[LightGBM] [Debug] Trained a tree with leaves = 31 and max_depth = 9\n",
      "[LightGBM] [Debug] Trained a tree with leaves = 31 and max_depth = 13\n",
      "[LightGBM] [Debug] Trained a tree with leaves = 31 and max_depth = 13\n",
      "[LightGBM] [Debug] Trained a tree with leaves = 31 and max_depth = 13\n",
      "[LightGBM] [Debug] Trained a tree with leaves = 31 and max_depth = 13\n",
      "[LightGBM] [Debug] Trained a tree with leaves = 31 and max_depth = 13\n",
      "[LightGBM] [Debug] Trained a tree with leaves = 31 and max_depth = 13\n",
      "[LightGBM] [Debug] Trained a tree with leaves = 31 and max_depth = 13\n",
      "[LightGBM] [Debug] Trained a tree with leaves = 31 and max_depth = 13\n",
      "[LightGBM] [Debug] Trained a tree with leaves = 31 and max_depth = 13\n",
      "[LightGBM] [Debug] Trained a tree with leaves = 31 and max_depth = 13\n",
      "[LightGBM] [Debug] Trained a tree with leaves = 31 and max_depth = 13\n",
      "[LightGBM] [Debug] Trained a tree with leaves = 31 and max_depth = 13\n",
      "[LightGBM] [Debug] Trained a tree with leaves = 31 and max_depth = 13\n",
      "[LightGBM] [Debug] Trained a tree with leaves = 31 and max_depth = 13\n",
      "[LightGBM] [Debug] Trained a tree with leaves = 31 and max_depth = 13\n",
      "[LightGBM] [Debug] Trained a tree with leaves = 31 and max_depth = 13\n",
      "[LightGBM] [Debug] Trained a tree with leaves = 31 and max_depth = 13\n",
      "[LightGBM] [Debug] Trained a tree with leaves = 31 and max_depth = 13\n",
      "[LightGBM] [Debug] Trained a tree with leaves = 31 and max_depth = 13\n",
      "[LightGBM] [Debug] Trained a tree with leaves = 31 and max_depth = 9\n",
      "[LightGBM] [Debug] Trained a tree with leaves = 31 and max_depth = 13\n",
      "[LightGBM] [Debug] Trained a tree with leaves = 31 and max_depth = 8\n",
      "[LightGBM] [Debug] Trained a tree with leaves = 31 and max_depth = 13\n",
      "[LightGBM] [Debug] Trained a tree with leaves = 31 and max_depth = 9\n",
      "[LightGBM] [Debug] Trained a tree with leaves = 31 and max_depth = 13\n",
      "[LightGBM] [Debug] Trained a tree with leaves = 31 and max_depth = 13\n",
      "[LightGBM] [Debug] Trained a tree with leaves = 31 and max_depth = 9\n",
      "[LightGBM] [Debug] Trained a tree with leaves = 31 and max_depth = 12\n",
      "[LightGBM] [Debug] Trained a tree with leaves = 31 and max_depth = 13\n",
      "[LightGBM] [Debug] Trained a tree with leaves = 31 and max_depth = 13\n",
      "[LightGBM] [Debug] Trained a tree with leaves = 31 and max_depth = 9\n",
      "[LightGBM] [Debug] Trained a tree with leaves = 31 and max_depth = 11\n",
      "[LightGBM] [Debug] Trained a tree with leaves = 31 and max_depth = 9\n",
      "[LightGBM] [Debug] Trained a tree with leaves = 31 and max_depth = 13\n",
      "[LightGBM] [Debug] Trained a tree with leaves = 31 and max_depth = 9\n",
      "[LightGBM] [Debug] Trained a tree with leaves = 31 and max_depth = 13\n",
      "[LightGBM] [Debug] Trained a tree with leaves = 31 and max_depth = 13\n",
      "[LightGBM] [Debug] Trained a tree with leaves = 31 and max_depth = 13\n",
      "[LightGBM] [Debug] Trained a tree with leaves = 31 and max_depth = 9\n",
      "[LightGBM] [Debug] Trained a tree with leaves = 31 and max_depth = 13\n",
      "[LightGBM] [Debug] Trained a tree with leaves = 31 and max_depth = 13\n",
      "[LightGBM] [Debug] Trained a tree with leaves = 31 and max_depth = 9\n",
      "[LightGBM] [Debug] Trained a tree with leaves = 31 and max_depth = 11\n",
      "[LightGBM] [Debug] Trained a tree with leaves = 31 and max_depth = 9\n",
      "[LightGBM] [Debug] Trained a tree with leaves = 31 and max_depth = 13\n",
      "[LightGBM] [Debug] Trained a tree with leaves = 31 and max_depth = 13\n",
      "[LightGBM] [Debug] Trained a tree with leaves = 31 and max_depth = 12\n",
      "[LightGBM] [Debug] Trained a tree with leaves = 31 and max_depth = 13\n",
      "[LightGBM] [Debug] Trained a tree with leaves = 31 and max_depth = 13\n",
      "[LightGBM] [Debug] Trained a tree with leaves = 31 and max_depth = 9\n",
      "[LightGBM] [Debug] Trained a tree with leaves = 31 and max_depth = 13\n",
      "[LightGBM] [Debug] Trained a tree with leaves = 31 and max_depth = 13\n",
      "[LightGBM] [Debug] Trained a tree with leaves = 31 and max_depth = 13\n",
      "[LightGBM] [Debug] Trained a tree with leaves = 31 and max_depth = 11\n",
      "[LightGBM] [Debug] Trained a tree with leaves = 31 and max_depth = 9\n",
      "[LightGBM] [Debug] Trained a tree with leaves = 31 and max_depth = 13\n",
      "[LightGBM] [Debug] Trained a tree with leaves = 31 and max_depth = 8\n",
      "[LightGBM] [Debug] Trained a tree with leaves = 31 and max_depth = 12\n",
      "[LightGBM] [Debug] Trained a tree with leaves = 31 and max_depth = 13\n",
      "[LightGBM] [Debug] Trained a tree with leaves = 31 and max_depth = 13\n",
      "[LightGBM] [Debug] Trained a tree with leaves = 31 and max_depth = 13\n",
      "[LightGBM] [Debug] Trained a tree with leaves = 31 and max_depth = 13\n",
      "[LightGBM] [Debug] Trained a tree with leaves = 31 and max_depth = 9\n",
      "[LightGBM] [Debug] Trained a tree with leaves = 31 and max_depth = 11\n",
      "[LightGBM] [Debug] Trained a tree with leaves = 31 and max_depth = 13\n",
      "[LightGBM] [Debug] Trained a tree with leaves = 31 and max_depth = 13\n",
      "[LightGBM] [Debug] Trained a tree with leaves = 31 and max_depth = 13\n",
      "[LightGBM] [Debug] Trained a tree with leaves = 31 and max_depth = 13\n",
      "[LightGBM] [Debug] Trained a tree with leaves = 31 and max_depth = 13\n",
      "[LightGBM] [Debug] Trained a tree with leaves = 31 and max_depth = 13\n",
      "[LightGBM] [Debug] Trained a tree with leaves = 31 and max_depth = 12\n",
      "[LightGBM] [Debug] Trained a tree with leaves = 31 and max_depth = 13\n",
      "[LightGBM] [Debug] Trained a tree with leaves = 31 and max_depth = 13\n",
      "[LightGBM] [Debug] Trained a tree with leaves = 31 and max_depth = 13\n",
      "[LightGBM] [Debug] Trained a tree with leaves = 31 and max_depth = 9\n",
      "[LightGBM] [Debug] Trained a tree with leaves = 31 and max_depth = 11\n",
      "[LightGBM] [Debug] Trained a tree with leaves = 31 and max_depth = 8\n",
      "[LightGBM] [Debug] Trained a tree with leaves = 31 and max_depth = 13\n",
      "[LightGBM] [Debug] Trained a tree with leaves = 31 and max_depth = 13\n",
      "[LightGBM] [Debug] Trained a tree with leaves = 31 and max_depth = 12\n",
      "[LightGBM] [Debug] Trained a tree with leaves = 31 and max_depth = 13\n",
      "[LightGBM] [Debug] Trained a tree with leaves = 31 and max_depth = 13\n",
      "[LightGBM] [Debug] Trained a tree with leaves = 31 and max_depth = 13\n",
      "[LightGBM] [Debug] Trained a tree with leaves = 31 and max_depth = 11\n",
      "[LightGBM] [Debug] Trained a tree with leaves = 31 and max_depth = 9\n",
      "[LightGBM] [Debug] Trained a tree with leaves = 31 and max_depth = 13\n"
     ]
    }
   ],
   "source": [
    "gbm,y_pred = train_predict_lgbm_regression(hyper_params,X_gbm,y_gbm,X_test_gbm)"
   ]
  },
  {
   "cell_type": "markdown",
   "metadata": {},
   "source": [
    "### Metrics"
   ]
  },
  {
   "cell_type": "code",
   "execution_count": 362,
   "metadata": {},
   "outputs": [
    {
     "name": "stdout",
     "output_type": "stream",
     "text": [
      "The R2 score is: 0.0006158315948036064\n",
      "The RMSE error is: 0.18203722526217686\n",
      "The MAE is: 0.10176497347732447\n"
     ]
    }
   ],
   "source": [
    "print('The R2 score is:',r2_score(y_test_gbm,y_pred))\n",
    "print('The RMSE error is:',np.sqrt(mean_squared_error(y_test_gbm,y_pred)))\n",
    "print('The MAE is:',mean_absolute_error(y_test_gbm,y_pred))"
   ]
  },
  {
   "cell_type": "code",
   "execution_count": 363,
   "metadata": {},
   "outputs": [
    {
     "data": {
      "image/png": "[encoded data removed]",
      "text/plain": [
       "<Figure size 720x360 with 1 Axes>"
      ]
     },
     "metadata": {
      "needs_background": "light"
     },
     "output_type": "display_data"
    }
   ],
   "source": [
    "feature_imp = pd.DataFrame(sorted(zip(gbm.feature_importances_,X_gbm.columns)), columns=['Value','Feature'])\n",
    "data=feature_imp.sort_values(by=\"Value\", ascending=False)\n",
    "data=data.head(20)\n",
    "plt.figure(figsize=(10, 5))\n",
    "sns.barplot(x=\"Value\", y=\"Feature\", data=data)\n",
    "plt.title('LightGBM Features')\n",
    "plt.tight_layout()\n",
    "plt.show()"
   ]
  },
  {
   "cell_type": "markdown",
   "metadata": {},
   "source": [
    "## LSTM"
   ]
  },
  {
   "cell_type": "code",
   "execution_count": 77,
   "metadata": {},
   "outputs": [],
   "source": [
    "X_lstm = X.copy()\n",
    "y_lstm = y.copy()\n",
    "X_test_lstm = X_test.copy()\n",
    "y_test_lstm = y_test.copy()"
   ]
  },
  {
   "cell_type": "code",
   "execution_count": 78,
   "metadata": {},
   "outputs": [],
   "source": [
    "def preprocess_nn_regression(X_train,y_train,X_test):\n",
    "    '''\n",
    "    input: Train & test data\n",
    "    output: Keras-ready data\n",
    "    Description: Preprocess data for the neural network regression\n",
    "    '''\n",
    "    X_train_keras = X_train.copy()\n",
    "    y_train_keras = y_train.copy()\n",
    "    X_test_keras = X_test.copy()\n",
    "    y_test_keras = y_test.copy()\n",
    "    X_train_keras = X_train_keras.values.reshape(X_train_keras.shape[0], X_train_keras.shape[1], 1)\n",
    "    X_test_keras = X_test_keras.values.reshape(X_test_keras.shape[0],X_test_keras.shape[1],1)\n",
    "    y_train = y_train.values.reshape(y_train.shape[0],1)\n",
    "    return X_train_keras,X_test_keras,y_train_keras"
   ]
  },
  {
   "cell_type": "code",
   "execution_count": 79,
   "metadata": {},
   "outputs": [],
   "source": [
    "X_tr_keras,X_test_keras,y_tr_keras = preprocess_nn_regression(X_lstm,y_lstm,X_test_lstm)"
   ]
  },
  {
   "cell_type": "code",
   "execution_count": 84,
   "metadata": {},
   "outputs": [],
   "source": [
    "def create_model(units, m,X_train):\n",
    "    '''\n",
    "    input: type of layer, Number of units, train data\n",
    "    output: compiled model\n",
    "    Description: Design architecture of the neural network model\n",
    "    '''\n",
    "    model = Sequential()\n",
    "    model.add(m (units = units, kernel_regularizer=l2(0.1), recurrent_regularizer=l2(0.1), bias_regularizer=l2(0.1),return_sequences = True,\n",
    "                input_shape = (X_train.shape[1],X_train.shape[2])))\n",
    "    model.add(Dropout(0.2))\n",
    "    model.add(m (units = units, kernel_regularizer=l2(0.1), recurrent_regularizer=l2(0.1), bias_regularizer=l2(0.1)))\n",
    "    model.add(Dropout(0.2))\n",
    "    model.add(Dense(units = 1))\n",
    "    #Compile model\n",
    "    model.compile(loss='mse', optimizer='adam')\n",
    "    return model"
   ]
  },
  {
   "cell_type": "code",
   "execution_count": 85,
   "metadata": {},
   "outputs": [],
   "source": [
    "model_lstm = create_model(64, LSTM,X_tr_keras)"
   ]
  },
  {
   "cell_type": "code",
   "execution_count": 86,
   "metadata": {},
   "outputs": [
    {
     "name": "stdout",
     "output_type": "stream",
     "text": [
      "Epoch 1/2\n",
      "9671/9671 [==============================] - 746s 77ms/step - loss: 0.6618 - val_loss: 0.0332\n",
      "Epoch 2/2\n",
      "9671/9671 [==============================] - 746s 77ms/step - loss: 0.0340 - val_loss: 0.0330\n"
     ]
    }
   ],
   "source": [
    "def fit_model(model,X_train,y_train):\n",
    "    '''\n",
    "    input: Model, training data\n",
    "    Output: fitted model\n",
    "    Description: Perform model fitting\n",
    "    '''\n",
    "    early_stop = keras.callbacks.EarlyStopping(monitor = 'val_loss',\n",
    "                                               patience = 10)\n",
    "    history = model.fit(X_train, y_train, epochs = 2,  \n",
    "                        validation_split = 0.2, batch_size = 128, \n",
    "                        shuffle = False, callbacks = [early_stop])\n",
    "    return history#\n",
    "\n",
    "history_lstm = fit_model(model_lstm,X_tr_keras,y_tr_keras)"
   ]
  },
  {
   "cell_type": "code",
   "execution_count": 87,
   "metadata": {},
   "outputs": [],
   "source": [
    "y_pred_lstm = model_lstm.predict(X_test_keras)"
   ]
  },
  {
   "cell_type": "markdown",
   "metadata": {},
   "source": [
    "### Metrics"
   ]
  },
  {
   "cell_type": "code",
   "execution_count": 88,
   "metadata": {},
   "outputs": [
    {
     "name": "stdout",
     "output_type": "stream",
     "text": [
      "The R2 score is: -0.04767028183419186\n",
      "The RMSE error is: 0.18638299529495395\n",
      "The MAE is: 0.1111951094263056\n"
     ]
    }
   ],
   "source": [
    "print('The R2 score is:',r2_score(y_test_lstm,y_pred_lstm))\n",
    "print('The RMSE error is:',np.sqrt(mean_squared_error(y_test_lstm,y_pred_lstm)))\n",
    "print('The MAE is:',mean_absolute_error(y_test_lstm,y_pred_lstm))"
   ]
  },
  {
   "cell_type": "markdown",
   "metadata": {},
   "source": [
    "# Classification for trend Analysis"
   ]
  },
  {
   "cell_type": "code",
   "execution_count": 410,
   "metadata": {},
   "outputs": [],
   "source": [
    "features = df_preprocessed.columns.tolist()\n",
    "features.remove('RET_shifted')"
   ]
  },
  {
   "cell_type": "code",
   "execution_count": 411,
   "metadata": {},
   "outputs": [],
   "source": [
    "training_set_cf = df.loc[:'2012-12-31']\n",
    "testing_set_cf = df.loc['2012-12-31':]\n",
    "X_cf, y_cf = training_set[features], training_set['label']\n",
    "X_test_cf, y_test_cf = testing_set[features], testing_set['label']"
   ]
  },
  {
   "cell_type": "code",
   "execution_count": 412,
   "metadata": {},
   "outputs": [
    {
     "name": "stderr",
     "output_type": "stream",
     "text": [
      "/opt/conda/lib/python3.7/site-packages/pandas/core/series.py:4523: SettingWithCopyWarning: \n",
      "A value is trying to be set on a copy of a slice from a DataFrame\n",
      "\n",
      "See the caveats in the documentation: https://pandas.pydata.org/pandas-docs/stable/user_guide/indexing.html#returning-a-view-versus-a-copy\n",
      "  downcast=downcast,\n"
     ]
    }
   ],
   "source": [
    "for column in X_cf.columns.tolist():\n",
    "    if X_cf[column].isna().sum() != 0:\n",
    "        X_cf[column].fillna(np.mean(X_cf[column]),inplace=True)"
   ]
  },
  {
   "cell_type": "code",
   "execution_count": 413,
   "metadata": {},
   "outputs": [],
   "source": [
    "for column in X_test_cf.columns.tolist():\n",
    "    if X_test_cf[column].isna().sum() != 0:\n",
    "        X_test_cf[column].fillna(np.mean(X_test_cf[column]),inplace=True)"
   ]
  },
  {
   "cell_type": "markdown",
   "metadata": {},
   "source": [
    "## Logistic Regression"
   ]
  },
  {
   "cell_type": "code",
   "execution_count": 414,
   "metadata": {},
   "outputs": [],
   "source": [
    "model = LogisticRegression(solver='liblinear', random_state=0)\n",
    "model.fit(X_cf, y_cf)\n",
    "y_pred_log_cf = model.predict(X_test_cf)"
   ]
  },
  {
   "cell_type": "markdown",
   "metadata": {},
   "source": [
    "### Metrics"
   ]
  },
  {
   "cell_type": "code",
   "execution_count": 415,
   "metadata": {},
   "outputs": [
    {
     "name": "stdout",
     "output_type": "stream",
     "text": [
      "f1 score of logistic regression classification: 0.6787398024023285\n",
      "recall of logistic regression classification: 0.9302580382351702\n",
      "precision of logistic regression classification: 0.5342831557122457\n",
      "accuracy of logistic regression classification: 0.5354169368434704\n"
     ]
    }
   ],
   "source": [
    "print('f1 score of logistic regression classification:',f1_score(y_test_cf,y_pred_log_cf))\n",
    "print('recall of logistic regression classification:',recall_score(y_test_cf,y_pred_log_cf))\n",
    "print('precision of logistic regression classification:',precision_score(y_test_cf,y_pred_log_cf))\n",
    "print('accuracy of logistic regression classification:',accuracy_score(y_test_cf,y_pred_log_cf))"
   ]
  },
  {
   "cell_type": "markdown",
   "metadata": {},
   "source": [
    "## LightGBM"
   ]
  },
  {
   "cell_type": "code",
   "execution_count": 416,
   "metadata": {},
   "outputs": [],
   "source": [
    "def train_lightGBM(X_train,X_test,y_train,y_test,params,num_boost_rounds_lgb):\n",
    "    '''\n",
    "    input: Train, test data\n",
    "    output: model lgbm\n",
    "    Description: train & predict lightgbm\n",
    "    '''\n",
    "    dtrain_lgb = lgb.Dataset(X_train.values, label=y_train)\n",
    "    model_lgb = lgb.train(params, dtrain_lgb, num_boost_round=num_boost_rounds_lgb)\n",
    "    y_pred_lgbm = model_lgb.predict(X_test)\n",
    "    \n",
    "    return model_lgb,y_pred_lgbm"
   ]
  },
  {
   "cell_type": "code",
   "execution_count": 436,
   "metadata": {},
   "outputs": [],
   "source": [
    "params_lgb = {}\n",
    "params_lgb['max_bin'] = 800\n",
    "params_lgb['learning_rate'] = 0.01\n",
    "params_lgb['num_leaves']=128\n",
    "params_lgb['max_depth'] = 30\n",
    "params_lgb['verbose'] = 1"
   ]
  },
  {
   "cell_type": "code",
   "execution_count": 437,
   "metadata": {},
   "outputs": [
    {
     "name": "stdout",
     "output_type": "stream",
     "text": [
      "[LightGBM] [Warning] Auto-choosing row-wise multi-threading, the overhead of testing was 0.100578 seconds.\n",
      "You can set `force_row_wise=true` to remove the overhead.\n",
      "And if memory is not enough, you can set `force_col_wise=true`.\n",
      "[LightGBM] [Info] Total Bins 22743\n",
      "[LightGBM] [Info] Number of data points in the train set: 1547241, number of used features: 29\n",
      "[LightGBM] [Info] Start training from score 0.531372\n"
     ]
    }
   ],
   "source": [
    "model_lgb_clf,y_pred_lgbm_clf = train_lightGBM(X_cf,X_test_cf,y_cf,y_test_cf,params_lgb,500)"
   ]
  },
  {
   "cell_type": "markdown",
   "metadata": {},
   "source": [
    "### Metrics"
   ]
  },
  {
   "cell_type": "code",
   "execution_count": 438,
   "metadata": {},
   "outputs": [
    {
     "name": "stdout",
     "output_type": "stream",
     "text": [
      "f1 score of lightGBM classification: 0.6380607364220418\n",
      "recall of lightGBM classification: 0.7916941748254696\n",
      "precision of lightgBM classification: 0.5343639190701026\n",
      "accuracy of lightGBM classification: 0.5261537321451729\n"
     ]
    }
   ],
   "source": [
    "y_pred_lgbm_clf=y_pred_lgbm_clf.round(0)\n",
    "y_pred_lgbm_clf=y_pred_lgbm_clf.astype(int)\n",
    "print('f1 score of lightGBM classification:',f1_score(y_test_cf,y_pred_lgbm_clf))\n",
    "print('recall of lightGBM classification:',recall_score(y_test_cf,y_pred_lgbm_clf))\n",
    "print('precision of lightgBM classification:',precision_score(y_test_cf,y_pred_lgbm_clf))\n",
    "print('accuracy of lightGBM classification:',accuracy_score(y_test_cf,y_pred_lgbm_clf))"
   ]
  },
  {
   "cell_type": "code",
   "execution_count": 439,
   "metadata": {},
   "outputs": [
    {
     "data": {
      "image/png": "[encoded data removed]",
      "text/plain": [
       "<Figure size 720x360 with 1 Axes>"
      ]
     },
     "metadata": {
      "needs_background": "light"
     },
     "output_type": "display_data"
    }
   ],
   "source": [
    "feature_imp = pd.DataFrame(sorted(zip(model_lgb_clf.feature_importance(importance_type='gain'),X.columns)), columns=['Value','Feature'])\n",
    "data=feature_imp.sort_values(by=\"Value\", ascending=False)\n",
    "data=data.head(20)\n",
    "plt.figure(figsize=(10, 5))\n",
    "sns.barplot(x=\"Value\", y=\"Feature\", data=data)\n",
    "plt.title('LightGBM Features')\n",
    "plt.tight_layout()\n",
    "plt.show()"
   ]
  },
  {
   "cell_type": "markdown",
   "metadata": {},
   "source": [
    "## Portfolio Creation - LightGBM"
   ]
  },
  {
   "cell_type": "code",
   "execution_count": 440,
   "metadata": {},
   "outputs": [],
   "source": [
    "y_test_hat = model_lgb_clf.predict(X_test_cf)\n",
    "y_test_hat = pd.DataFrame(y_test_hat, columns=['score'], index=X_test_cf.index)\n",
    "y_test_hat.insert(1,'y', y_test_cf.values)\n",
    "y_test_hat['RET_shifted'] = testing_set['RET_shifted']"
   ]
  },
  {
   "cell_type": "code",
   "execution_count": 441,
   "metadata": {},
   "outputs": [],
   "source": [
    "test_long_portfolio = y_test_hat.groupby(level=0).apply(lambda x: x.sort_values('score', ascending=False).head(100))\n",
    "test_short_portfolio = y_test_hat.groupby(level=0).apply(lambda x: x.sort_values('score', ascending=True).head(100))"
   ]
  },
  {
   "cell_type": "markdown",
   "metadata": {},
   "source": [
    "#### long portfolio"
   ]
  },
  {
   "cell_type": "code",
   "execution_count": 442,
   "metadata": {},
   "outputs": [],
   "source": [
    "test_long_portfolio = test_long_portfolio.reset_index(level=1, drop=True)\n",
    "test_long_portfolio = test_long_portfolio.reset_index()\n",
    "test_long_portfolio = test_long_portfolio.set_index(['date', 'PERMNO'])"
   ]
  },
  {
   "cell_type": "code",
   "execution_count": 443,
   "metadata": {},
   "outputs": [],
   "source": [
    "monthly_return = test_long_portfolio.groupby(level=0).mean()\n",
    "monthly_return = pd.DataFrame(monthly_return['RET_shifted'])\n",
    "monthly_return = monthly_return.reset_index()\n",
    "monthly_return['RET_shifted'] = monthly_return['RET_shifted'].shift()\n",
    "monthly_return.columns = ['date', 'return']\n",
    "monthly_return['cum_return'] = (monthly_return['return']+1).cumprod()-1"
   ]
  },
  {
   "cell_type": "code",
   "execution_count": 444,
   "metadata": {},
   "outputs": [
    {
     "data": {
      "text/plain": [
       "0.8072258458067917"
      ]
     },
     "execution_count": 444,
     "metadata": {},
     "output_type": "execute_result"
    }
   ],
   "source": [
    "sr = (monthly_return['return'].mean() / monthly_return['return'].std()) * np.sqrt(12)\n",
    "sr"
   ]
  },
  {
   "cell_type": "markdown",
   "metadata": {},
   "source": [
    "#### Short portfolio"
   ]
  },
  {
   "cell_type": "code",
   "execution_count": 445,
   "metadata": {},
   "outputs": [],
   "source": [
    "test_short_portfolio = test_short_portfolio.reset_index(level=1, drop=True)\n",
    "test_short_portfolio = test_short_portfolio.reset_index()\n",
    "test_short_portfolio = test_short_portfolio.set_index(['date', 'PERMNO'])"
   ]
  },
  {
   "cell_type": "code",
   "execution_count": 446,
   "metadata": {},
   "outputs": [],
   "source": [
    "short_monthly_return = test_short_portfolio.groupby(level=0).mean()\n",
    "short_monthly_return = pd.DataFrame(short_monthly_return['RET_shifted'])\n",
    "short_monthly_return = short_monthly_return.reset_index()\n",
    "short_monthly_return['RET_shifted'] = short_monthly_return['RET_shifted'].shift() # shift return to the actual realized date\n",
    "short_monthly_return = short_monthly_return.dropna()\n",
    "short_monthly_return.columns = ['date', 'return']\n",
    "short_monthly_return['cum_return_orig'] = (short_monthly_return['return']+1).cumprod()-1"
   ]
  },
  {
   "cell_type": "code",
   "execution_count": 447,
   "metadata": {},
   "outputs": [
    {
     "data": {
      "text/html": [
       "<div>\n",
       "<style scoped>\n",
       "    .dataframe tbody tr th:only-of-type {\n",
       "        vertical-align: middle;\n",
       "    }\n",
       "\n",
       "    .dataframe tbody tr th {\n",
       "        vertical-align: top;\n",
       "    }\n",
       "\n",
       "    .dataframe thead th {\n",
       "        text-align: right;\n",
       "    }\n",
       "</style>\n",
       "<table border=\"1\" class=\"dataframe\">\n",
       "  <thead>\n",
       "    <tr style=\"text-align: right;\">\n",
       "      <th></th>\n",
       "      <th>date</th>\n",
       "      <th>return</th>\n",
       "      <th>cum_return_orig</th>\n",
       "    </tr>\n",
       "  </thead>\n",
       "  <tbody>\n",
       "    <tr>\n",
       "      <th>1</th>\n",
       "      <td>2012/02/29</td>\n",
       "      <td>0.053856</td>\n",
       "      <td>0.053856</td>\n",
       "    </tr>\n",
       "    <tr>\n",
       "      <th>2</th>\n",
       "      <td>2012/04/30</td>\n",
       "      <td>-0.051189</td>\n",
       "      <td>-0.000090</td>\n",
       "    </tr>\n",
       "    <tr>\n",
       "      <th>3</th>\n",
       "      <td>2012/05/31</td>\n",
       "      <td>-0.126537</td>\n",
       "      <td>-0.126616</td>\n",
       "    </tr>\n",
       "    <tr>\n",
       "      <th>4</th>\n",
       "      <td>2012/07/31</td>\n",
       "      <td>-0.000385</td>\n",
       "      <td>-0.126952</td>\n",
       "    </tr>\n",
       "    <tr>\n",
       "      <th>5</th>\n",
       "      <td>2012/08/31</td>\n",
       "      <td>-0.016667</td>\n",
       "      <td>-0.141504</td>\n",
       "    </tr>\n",
       "    <tr>\n",
       "      <th>...</th>\n",
       "      <td>...</td>\n",
       "      <td>...</td>\n",
       "      <td>...</td>\n",
       "    </tr>\n",
       "    <tr>\n",
       "      <th>72</th>\n",
       "      <td>2020/07/31</td>\n",
       "      <td>0.032698</td>\n",
       "      <td>-0.753054</td>\n",
       "    </tr>\n",
       "    <tr>\n",
       "      <th>73</th>\n",
       "      <td>2020/08/31</td>\n",
       "      <td>-0.045975</td>\n",
       "      <td>-0.764407</td>\n",
       "    </tr>\n",
       "    <tr>\n",
       "      <th>74</th>\n",
       "      <td>2020/09/30</td>\n",
       "      <td>-0.040656</td>\n",
       "      <td>-0.773986</td>\n",
       "    </tr>\n",
       "    <tr>\n",
       "      <th>75</th>\n",
       "      <td>2020/11/30</td>\n",
       "      <td>0.242734</td>\n",
       "      <td>-0.719124</td>\n",
       "    </tr>\n",
       "    <tr>\n",
       "      <th>76</th>\n",
       "      <td>2020/12/31</td>\n",
       "      <td>0.119952</td>\n",
       "      <td>-0.685433</td>\n",
       "    </tr>\n",
       "  </tbody>\n",
       "</table>\n",
       "<p>76 rows × 3 columns</p>\n",
       "</div>"
      ],
      "text/plain": [
       "          date    return  cum_return_orig\n",
       "1   2012/02/29  0.053856         0.053856\n",
       "2   2012/04/30 -0.051189        -0.000090\n",
       "3   2012/05/31 -0.126537        -0.126616\n",
       "4   2012/07/31 -0.000385        -0.126952\n",
       "5   2012/08/31 -0.016667        -0.141504\n",
       "..         ...       ...              ...\n",
       "72  2020/07/31  0.032698        -0.753054\n",
       "73  2020/08/31 -0.045975        -0.764407\n",
       "74  2020/09/30 -0.040656        -0.773986\n",
       "75  2020/11/30  0.242734        -0.719124\n",
       "76  2020/12/31  0.119952        -0.685433\n",
       "\n",
       "[76 rows x 3 columns]"
      ]
     },
     "execution_count": 447,
     "metadata": {},
     "output_type": "execute_result"
    }
   ],
   "source": [
    "short_monthly_return"
   ]
  },
  {
   "cell_type": "code",
   "execution_count": 448,
   "metadata": {},
   "outputs": [],
   "source": [
    "short_monthly_return['return'] = -short_monthly_return['return']"
   ]
  },
  {
   "cell_type": "code",
   "execution_count": 449,
   "metadata": {},
   "outputs": [
    {
     "data": {
      "text/html": [
       "<div>\n",
       "<style scoped>\n",
       "    .dataframe tbody tr th:only-of-type {\n",
       "        vertical-align: middle;\n",
       "    }\n",
       "\n",
       "    .dataframe tbody tr th {\n",
       "        vertical-align: top;\n",
       "    }\n",
       "\n",
       "    .dataframe thead th {\n",
       "        text-align: right;\n",
       "    }\n",
       "</style>\n",
       "<table border=\"1\" class=\"dataframe\">\n",
       "  <thead>\n",
       "    <tr style=\"text-align: right;\">\n",
       "      <th></th>\n",
       "      <th>date</th>\n",
       "      <th>return</th>\n",
       "      <th>cum_return_orig</th>\n",
       "      <th>cum_return</th>\n",
       "    </tr>\n",
       "  </thead>\n",
       "  <tbody>\n",
       "    <tr>\n",
       "      <th>1</th>\n",
       "      <td>2012/02/29</td>\n",
       "      <td>-0.053856</td>\n",
       "      <td>0.053856</td>\n",
       "      <td>-0.053856</td>\n",
       "    </tr>\n",
       "    <tr>\n",
       "      <th>2</th>\n",
       "      <td>2012/04/30</td>\n",
       "      <td>0.051189</td>\n",
       "      <td>-0.000090</td>\n",
       "      <td>-0.005424</td>\n",
       "    </tr>\n",
       "    <tr>\n",
       "      <th>3</th>\n",
       "      <td>2012/05/31</td>\n",
       "      <td>0.126537</td>\n",
       "      <td>-0.126616</td>\n",
       "      <td>0.120427</td>\n",
       "    </tr>\n",
       "    <tr>\n",
       "      <th>4</th>\n",
       "      <td>2012/07/31</td>\n",
       "      <td>0.000385</td>\n",
       "      <td>-0.126952</td>\n",
       "      <td>0.120859</td>\n",
       "    </tr>\n",
       "    <tr>\n",
       "      <th>5</th>\n",
       "      <td>2012/08/31</td>\n",
       "      <td>0.016667</td>\n",
       "      <td>-0.141504</td>\n",
       "      <td>0.139540</td>\n",
       "    </tr>\n",
       "    <tr>\n",
       "      <th>...</th>\n",
       "      <td>...</td>\n",
       "      <td>...</td>\n",
       "      <td>...</td>\n",
       "      <td>...</td>\n",
       "    </tr>\n",
       "    <tr>\n",
       "      <th>72</th>\n",
       "      <td>2020/07/31</td>\n",
       "      <td>-0.032698</td>\n",
       "      <td>-0.753054</td>\n",
       "      <td>1.411679</td>\n",
       "    </tr>\n",
       "    <tr>\n",
       "      <th>73</th>\n",
       "      <td>2020/08/31</td>\n",
       "      <td>0.045975</td>\n",
       "      <td>-0.764407</td>\n",
       "      <td>1.522557</td>\n",
       "    </tr>\n",
       "    <tr>\n",
       "      <th>74</th>\n",
       "      <td>2020/09/30</td>\n",
       "      <td>0.040656</td>\n",
       "      <td>-0.773986</td>\n",
       "      <td>1.625114</td>\n",
       "    </tr>\n",
       "    <tr>\n",
       "      <th>75</th>\n",
       "      <td>2020/11/30</td>\n",
       "      <td>-0.242734</td>\n",
       "      <td>-0.719124</td>\n",
       "      <td>0.987909</td>\n",
       "    </tr>\n",
       "    <tr>\n",
       "      <th>76</th>\n",
       "      <td>2020/12/31</td>\n",
       "      <td>-0.119952</td>\n",
       "      <td>-0.685433</td>\n",
       "      <td>0.749456</td>\n",
       "    </tr>\n",
       "  </tbody>\n",
       "</table>\n",
       "<p>76 rows × 4 columns</p>\n",
       "</div>"
      ],
      "text/plain": [
       "          date    return  cum_return_orig  cum_return\n",
       "1   2012/02/29 -0.053856         0.053856   -0.053856\n",
       "2   2012/04/30  0.051189        -0.000090   -0.005424\n",
       "3   2012/05/31  0.126537        -0.126616    0.120427\n",
       "4   2012/07/31  0.000385        -0.126952    0.120859\n",
       "5   2012/08/31  0.016667        -0.141504    0.139540\n",
       "..         ...       ...              ...         ...\n",
       "72  2020/07/31 -0.032698        -0.753054    1.411679\n",
       "73  2020/08/31  0.045975        -0.764407    1.522557\n",
       "74  2020/09/30  0.040656        -0.773986    1.625114\n",
       "75  2020/11/30 -0.242734        -0.719124    0.987909\n",
       "76  2020/12/31 -0.119952        -0.685433    0.749456\n",
       "\n",
       "[76 rows x 4 columns]"
      ]
     },
     "execution_count": 449,
     "metadata": {},
     "output_type": "execute_result"
    }
   ],
   "source": [
    "short_monthly_return['cum_return'] = (short_monthly_return['return']+1).cumprod()-1\n",
    "short_monthly_return"
   ]
  },
  {
   "cell_type": "code",
   "execution_count": 450,
   "metadata": {},
   "outputs": [
    {
     "data": {
      "text/plain": [
       "0.44580899162553467"
      ]
     },
     "execution_count": 450,
     "metadata": {},
     "output_type": "execute_result"
    }
   ],
   "source": [
    "sr = (short_monthly_return['return'].mean() / short_monthly_return['return'].std()) * np.sqrt(12)\n",
    "sr"
   ]
  },
  {
   "cell_type": "markdown",
   "metadata": {},
   "source": [
    "#### Long-short portfolio"
   ]
  },
  {
   "cell_type": "code",
   "execution_count": 451,
   "metadata": {},
   "outputs": [],
   "source": [
    "monthly_return_dates = monthly_return['date'].tolist()\n",
    "monthly_short_dates = short_monthly_return['date'].tolist()\n",
    "date = [x for x in monthly_return_dates if x not in monthly_short_dates]\n",
    "monthly_return = monthly_return[~monthly_return['date'].isin(date)]"
   ]
  },
  {
   "cell_type": "code",
   "execution_count": 452,
   "metadata": {},
   "outputs": [],
   "source": [
    "portfolio_1 = short_monthly_return['return'] + monthly_return['return']\n",
    "portfolio_1 = pd.DataFrame(portfolio_1.values, index = short_monthly_return['date'], columns=['return'])\n",
    "portfolio_2 = (-short_monthly_return['return'] + monthly_return['return'])/2\n",
    "portfolio_2 = pd.DataFrame(portfolio_2.values, index = short_monthly_return['date'], columns=['return'])"
   ]
  },
  {
   "cell_type": "code",
   "execution_count": 453,
   "metadata": {},
   "outputs": [
    {
     "data": {
      "text/plain": [
       "1.2958010167692056"
      ]
     },
     "execution_count": 453,
     "metadata": {},
     "output_type": "execute_result"
    }
   ],
   "source": [
    "sr_1 = (portfolio_1['return'].mean() / portfolio_1['return'].std()) * np.sqrt(12)\n",
    "sr_1"
   ]
  },
  {
   "cell_type": "code",
   "execution_count": 454,
   "metadata": {},
   "outputs": [
    {
     "data": {
      "text/plain": [
       "0.0509308766929558"
      ]
     },
     "execution_count": 454,
     "metadata": {},
     "output_type": "execute_result"
    }
   ],
   "source": [
    "sr_2 = (portfolio_2['return'].mean() / portfolio_2['return'].std()) * np.sqrt(12)\n",
    "sr_2"
   ]
  },
  {
   "cell_type": "markdown",
   "metadata": {},
   "source": [
    "## Portfolio Creation - Logistic Regression"
   ]
  },
  {
   "cell_type": "code",
   "execution_count": 152,
   "metadata": {},
   "outputs": [],
   "source": [
    "y_test_hat_log = model.predict(X_test_cf)\n",
    "y_test_hat_log = pd.DataFrame(y_test_cf, columns=['score'], index=X_test_cf.index)\n",
    "y_test_hat_log.insert(1,'y', y_test_cf.values)\n",
    "y_test_hat_log['RET_shifted'] = testing_set['RET_shifted']"
   ]
  },
  {
   "cell_type": "code",
   "execution_count": 153,
   "metadata": {},
   "outputs": [],
   "source": [
    "test_long_portfolio = y_test_hat.groupby(level=0).apply(lambda x: x.sort_values('score', ascending=False).head(100))\n",
    "test_short_portfolio = y_test_hat.groupby(level=0).apply(lambda x: x.sort_values('score', ascending=True).head(100))"
   ]
  },
  {
   "cell_type": "markdown",
   "metadata": {},
   "source": [
    "#### long portfolio"
   ]
  },
  {
   "cell_type": "code",
   "execution_count": 154,
   "metadata": {},
   "outputs": [],
   "source": [
    "test_long_portfolio = test_long_portfolio.reset_index(level=1, drop=True)\n",
    "test_long_portfolio = test_long_portfolio.reset_index()\n",
    "test_long_portfolio = test_long_portfolio.set_index(['date', 'PERMNO'])"
   ]
  },
  {
   "cell_type": "code",
   "execution_count": 155,
   "metadata": {},
   "outputs": [],
   "source": [
    "monthly_return = test_long_portfolio.groupby(level=0).mean()\n",
    "monthly_return = pd.DataFrame(monthly_return['RET_shifted'])\n",
    "monthly_return = monthly_return.reset_index()\n",
    "monthly_return['RET_shifted'] = monthly_return['RET_shifted'].shift()\n",
    "monthly_return.columns = ['date', 'return']\n",
    "monthly_return['cum_return'] = (monthly_return['return']+1).cumprod()-1"
   ]
  },
  {
   "cell_type": "code",
   "execution_count": 156,
   "metadata": {},
   "outputs": [
    {
     "data": {
      "text/plain": [
       "0.8072258458067917"
      ]
     },
     "execution_count": 156,
     "metadata": {},
     "output_type": "execute_result"
    }
   ],
   "source": [
    "sr = (monthly_return['return'].mean() / monthly_return['return'].std()) * np.sqrt(12)\n",
    "sr"
   ]
  },
  {
   "cell_type": "markdown",
   "metadata": {},
   "source": [
    "#### Short portfolio"
   ]
  },
  {
   "cell_type": "code",
   "execution_count": 158,
   "metadata": {},
   "outputs": [],
   "source": [
    "test_short_portfolio = test_short_portfolio.reset_index(level=1, drop=True)\n",
    "test_short_portfolio = test_short_portfolio.reset_index()\n",
    "test_short_portfolio = test_short_portfolio.set_index(['date', 'PERMNO'])"
   ]
  },
  {
   "cell_type": "code",
   "execution_count": 159,
   "metadata": {},
   "outputs": [],
   "source": [
    "short_monthly_return = test_short_portfolio.groupby(level=0).mean()\n",
    "short_monthly_return = pd.DataFrame(short_monthly_return['RET_shifted'])\n",
    "short_monthly_return = short_monthly_return.reset_index()\n",
    "short_monthly_return['RET_shifted'] = short_monthly_return['RET_shifted'].shift() # shift return to the actual realized date\n",
    "short_monthly_return = short_monthly_return.dropna()\n",
    "short_monthly_return.columns = ['date', 'return']\n",
    "short_monthly_return['cum_return_orig'] = (short_monthly_return['return']+1).cumprod()-1\n",
    "short_monthly_return['return'] = -short_monthly_return['return']"
   ]
  },
  {
   "cell_type": "code",
   "execution_count": 160,
   "metadata": {},
   "outputs": [
    {
     "data": {
      "text/plain": [
       "0.44580899162553467"
      ]
     },
     "execution_count": 160,
     "metadata": {},
     "output_type": "execute_result"
    }
   ],
   "source": [
    "sr = (short_monthly_return['return'].mean() / short_monthly_return['return'].std()) * np.sqrt(12)\n",
    "sr"
   ]
  },
  {
   "cell_type": "code",
   "execution_count": 455,
   "metadata": {},
   "outputs": [],
   "source": [
    "portfolio_1['cum_return'] = (portfolio_1['return']+1).cumprod()-1"
   ]
  },
  {
   "cell_type": "markdown",
   "metadata": {},
   "source": [
    "## Plots for cumulative returns"
   ]
  },
  {
   "cell_type": "code",
   "execution_count": 456,
   "metadata": {},
   "outputs": [],
   "source": [
    "x_labels = []\n",
    "xlab = []\n",
    "count = 0\n",
    "month = ['dummy','Jan','Feb','Mar','Apr','May','Jun','Jul','Aug','Sep','Oct','Nov','Dec']\n",
    "for i in portfolio_2.index.tolist():\n",
    "    if count%10==0:\n",
    "        x_labels.append(i)\n",
    "        xlab.append(month[int(i[5:7])]+ ' ' +i[:4])\n",
    "    count+=1"
   ]
  },
  {
   "cell_type": "code",
   "execution_count": 457,
   "metadata": {},
   "outputs": [
    {
     "data": {
      "image/png": "[encoded data removed]",
      "text/plain": [
       "<Figure size 432x288 with 1 Axes>"
      ]
     },
     "metadata": {
      "needs_background": "light"
     },
     "output_type": "display_data"
    }
   ],
   "source": [
    "plt.plot(monthly_return['cum_return'],label='Long',color='r')\n",
    "plt.plot(short_monthly_return['cum_return_orig'],label='short',color='y')\n",
    "plt.plot(portfolio_1['cum_return'],label='long-short',color='b')\n",
    "plt.xticks(x_labels,xlab,rotation=60)\n",
    "plt.xlabel('Dates')\n",
    "plt.ylabel('Returns')\n",
    "plt.title('Cumulative Returns')\n",
    "plt.legend()\n",
    "plt.show()"
   ]
  },
  {
   "cell_type": "markdown",
   "metadata": {},
   "source": [
    "# Regression for Return at t"
   ]
  },
  {
   "cell_type": "code",
   "execution_count": 122,
   "metadata": {},
   "outputs": [],
   "source": [
    "features = df_preprocessed.columns[4:-3].tolist()"
   ]
  },
  {
   "cell_type": "code",
   "execution_count": 124,
   "metadata": {},
   "outputs": [],
   "source": [
    "training_set = df.loc[:'2012-12-31']\n",
    "testing_set = df.loc['2012-12-31':]\n",
    "X_t, y_t = training_set[features], training_set['RET']\n",
    "X_test_t, y_test_t = testing_set[features], testing_set['RET']"
   ]
  },
  {
   "cell_type": "code",
   "execution_count": 139,
   "metadata": {},
   "outputs": [
    {
     "name": "stderr",
     "output_type": "stream",
     "text": [
      "/opt/conda/lib/python3.7/site-packages/pandas/core/series.py:4523: SettingWithCopyWarning: \n",
      "A value is trying to be set on a copy of a slice from a DataFrame\n",
      "\n",
      "See the caveats in the documentation: https://pandas.pydata.org/pandas-docs/stable/user_guide/indexing.html#returning-a-view-versus-a-copy\n",
      "  downcast=downcast,\n"
     ]
    }
   ],
   "source": [
    "for column in X_t.columns.tolist():\n",
    "    if X_t[column].isna().sum() != 0:\n",
    "        X_t[column].fillna(np.mean(X_t[column]),inplace=True)\n",
    "        \n",
    "for column in X_test_t.columns.tolist():\n",
    "    if X_test_t[column].isna().sum() != 0:\n",
    "        X_test_t[column].fillna(np.mean(X_test_t[column]),inplace=True)"
   ]
  },
  {
   "cell_type": "markdown",
   "metadata": {},
   "source": [
    "## LightGBM"
   ]
  },
  {
   "cell_type": "code",
   "execution_count": 140,
   "metadata": {},
   "outputs": [
    {
     "name": "stderr",
     "output_type": "stream",
     "text": [
      "/opt/conda/lib/python3.7/site-packages/lightgbm/engine.py:151: UserWarning: Found `num_iterations` in params. Will use it instead of argument\n",
      "  warnings.warn(\"Found `{}` in params. Will use it instead of argument\".format(alias))\n"
     ]
    },
    {
     "name": "stdout",
     "output_type": "stream",
     "text": [
      "[LightGBM] [Debug] Dataset::GetMultiBinFromAllFeatures: sparse rate 0.000000\n",
      "[LightGBM] [Debug] init for col-wise cost 0.000073 seconds, init for row-wise cost 0.136826 seconds\n",
      "[LightGBM] [Warning] Auto-choosing col-wise multi-threading, the overhead of testing was 0.149502 seconds.\n",
      "You can set `force_col_wise=true` to remove the overhead.\n",
      "[LightGBM] [Info] Total Bins 11776\n",
      "[LightGBM] [Info] Number of data points in the train set: 1547241, number of used features: 23\n",
      "[LightGBM] [Info] Start training from score -0.000000\n",
      "[LightGBM] [Debug] Trained a tree with leaves = 128 and max_depth = 13\n",
      "[LightGBM] [Debug] Trained a tree with leaves = 128 and max_depth = 13\n",
      "[LightGBM] [Debug] Trained a tree with leaves = 128 and max_depth = 13\n",
      "[LightGBM] [Debug] Trained a tree with leaves = 128 and max_depth = 13\n",
      "[LightGBM] [Debug] Trained a tree with leaves = 128 and max_depth = 13\n",
      "[LightGBM] [Debug] Trained a tree with leaves = 128 and max_depth = 13\n",
      "[LightGBM] [Debug] Trained a tree with leaves = 128 and max_depth = 13\n",
      "[LightGBM] [Debug] Trained a tree with leaves = 128 and max_depth = 13\n",
      "[LightGBM] [Debug] Trained a tree with leaves = 128 and max_depth = 13\n",
      "[LightGBM] [Debug] Trained a tree with leaves = 128 and max_depth = 12\n",
      "[LightGBM] [Debug] Trained a tree with leaves = 128 and max_depth = 13\n",
      "[LightGBM] [Debug] Trained a tree with leaves = 128 and max_depth = 12\n",
      "[LightGBM] [Debug] Trained a tree with leaves = 128 and max_depth = 13\n",
      "[LightGBM] [Debug] Trained a tree with leaves = 128 and max_depth = 12\n",
      "[LightGBM] [Debug] Trained a tree with leaves = 128 and max_depth = 13\n",
      "[LightGBM] [Debug] Trained a tree with leaves = 128 and max_depth = 12\n",
      "[LightGBM] [Debug] Trained a tree with leaves = 128 and max_depth = 13\n",
      "[LightGBM] [Debug] Trained a tree with leaves = 128 and max_depth = 13\n",
      "[LightGBM] [Debug] Trained a tree with leaves = 128 and max_depth = 12\n",
      "[LightGBM] [Debug] Trained a tree with leaves = 128 and max_depth = 13\n",
      "[LightGBM] [Debug] Trained a tree with leaves = 128 and max_depth = 12\n",
      "[LightGBM] [Debug] Trained a tree with leaves = 128 and max_depth = 13\n",
      "[LightGBM] [Debug] Trained a tree with leaves = 128 and max_depth = 12\n",
      "[LightGBM] [Debug] Trained a tree with leaves = 128 and max_depth = 13\n",
      "[LightGBM] [Debug] Trained a tree with leaves = 128 and max_depth = 13\n",
      "[LightGBM] [Debug] Trained a tree with leaves = 128 and max_depth = 13\n",
      "[LightGBM] [Debug] Trained a tree with leaves = 128 and max_depth = 12\n",
      "[LightGBM] [Debug] Trained a tree with leaves = 128 and max_depth = 13\n",
      "[LightGBM] [Debug] Trained a tree with leaves = 128 and max_depth = 13\n",
      "[LightGBM] [Debug] Trained a tree with leaves = 128 and max_depth = 13\n",
      "[LightGBM] [Debug] Trained a tree with leaves = 128 and max_depth = 13\n",
      "[LightGBM] [Debug] Trained a tree with leaves = 128 and max_depth = 13\n",
      "[LightGBM] [Debug] Trained a tree with leaves = 128 and max_depth = 13\n",
      "[LightGBM] [Debug] Trained a tree with leaves = 128 and max_depth = 12\n",
      "[LightGBM] [Debug] Trained a tree with leaves = 128 and max_depth = 13\n",
      "[LightGBM] [Debug] Trained a tree with leaves = 128 and max_depth = 13\n",
      "[LightGBM] [Debug] Trained a tree with leaves = 128 and max_depth = 13\n",
      "[LightGBM] [Debug] Trained a tree with leaves = 128 and max_depth = 13\n",
      "[LightGBM] [Debug] Trained a tree with leaves = 128 and max_depth = 13\n",
      "[LightGBM] [Debug] Trained a tree with leaves = 128 and max_depth = 12\n",
      "[LightGBM] [Debug] Trained a tree with leaves = 128 and max_depth = 13\n",
      "[LightGBM] [Debug] Trained a tree with leaves = 128 and max_depth = 13\n",
      "[LightGBM] [Debug] Trained a tree with leaves = 128 and max_depth = 13\n",
      "[LightGBM] [Debug] Trained a tree with leaves = 128 and max_depth = 13\n",
      "[LightGBM] [Debug] Trained a tree with leaves = 128 and max_depth = 13\n",
      "[LightGBM] [Debug] Trained a tree with leaves = 128 and max_depth = 13\n",
      "[LightGBM] [Debug] Trained a tree with leaves = 128 and max_depth = 13\n",
      "[LightGBM] [Debug] Trained a tree with leaves = 128 and max_depth = 13\n",
      "[LightGBM] [Debug] Trained a tree with leaves = 128 and max_depth = 12\n",
      "[LightGBM] [Debug] Trained a tree with leaves = 128 and max_depth = 14\n",
      "[LightGBM] [Debug] Trained a tree with leaves = 128 and max_depth = 16\n",
      "[LightGBM] [Debug] Trained a tree with leaves = 128 and max_depth = 13\n",
      "[LightGBM] [Debug] Trained a tree with leaves = 128 and max_depth = 16\n",
      "[LightGBM] [Debug] Trained a tree with leaves = 128 and max_depth = 14\n",
      "[LightGBM] [Debug] Trained a tree with leaves = 128 and max_depth = 13\n",
      "[LightGBM] [Debug] Trained a tree with leaves = 128 and max_depth = 12\n",
      "[LightGBM] [Debug] Trained a tree with leaves = 128 and max_depth = 14\n",
      "[LightGBM] [Debug] Trained a tree with leaves = 128 and max_depth = 16\n",
      "[LightGBM] [Debug] Trained a tree with leaves = 128 and max_depth = 14\n",
      "[LightGBM] [Debug] Trained a tree with leaves = 128 and max_depth = 16\n",
      "[LightGBM] [Debug] Trained a tree with leaves = 128 and max_depth = 13\n",
      "[LightGBM] [Debug] Trained a tree with leaves = 128 and max_depth = 12\n",
      "[LightGBM] [Debug] Trained a tree with leaves = 128 and max_depth = 14\n",
      "[LightGBM] [Debug] Trained a tree with leaves = 128 and max_depth = 16\n",
      "[LightGBM] [Debug] Trained a tree with leaves = 128 and max_depth = 13\n",
      "[LightGBM] [Debug] Trained a tree with leaves = 128 and max_depth = 14\n",
      "[LightGBM] [Debug] Trained a tree with leaves = 128 and max_depth = 16\n",
      "[LightGBM] [Debug] Trained a tree with leaves = 128 and max_depth = 13\n",
      "[LightGBM] [Debug] Trained a tree with leaves = 128 and max_depth = 13\n",
      "[LightGBM] [Debug] Trained a tree with leaves = 128 and max_depth = 14\n",
      "[LightGBM] [Debug] Trained a tree with leaves = 128 and max_depth = 16\n",
      "[LightGBM] [Debug] Trained a tree with leaves = 128 and max_depth = 13\n",
      "[LightGBM] [Debug] Trained a tree with leaves = 128 and max_depth = 16\n",
      "[LightGBM] [Debug] Trained a tree with leaves = 128 and max_depth = 14\n",
      "[LightGBM] [Debug] Trained a tree with leaves = 128 and max_depth = 15\n",
      "[LightGBM] [Debug] Trained a tree with leaves = 128 and max_depth = 13\n",
      "[LightGBM] [Debug] Trained a tree with leaves = 128 and max_depth = 14\n",
      "[LightGBM] [Debug] Trained a tree with leaves = 128 and max_depth = 15\n",
      "[LightGBM] [Debug] Trained a tree with leaves = 128 and max_depth = 13\n",
      "[LightGBM] [Debug] Trained a tree with leaves = 128 and max_depth = 14\n",
      "[LightGBM] [Debug] Trained a tree with leaves = 128 and max_depth = 13\n",
      "[LightGBM] [Debug] Trained a tree with leaves = 128 and max_depth = 15\n",
      "[LightGBM] [Debug] Trained a tree with leaves = 128 and max_depth = 13\n",
      "[LightGBM] [Debug] Trained a tree with leaves = 128 and max_depth = 13\n",
      "[LightGBM] [Debug] Trained a tree with leaves = 128 and max_depth = 14\n",
      "[LightGBM] [Debug] Trained a tree with leaves = 128 and max_depth = 13\n",
      "[LightGBM] [Debug] Trained a tree with leaves = 128 and max_depth = 14\n",
      "[LightGBM] [Debug] Trained a tree with leaves = 128 and max_depth = 14\n",
      "[LightGBM] [Debug] Trained a tree with leaves = 128 and max_depth = 14\n",
      "[LightGBM] [Debug] Trained a tree with leaves = 128 and max_depth = 14\n",
      "[LightGBM] [Debug] Trained a tree with leaves = 128 and max_depth = 14\n",
      "[LightGBM] [Debug] Trained a tree with leaves = 128 and max_depth = 14\n",
      "[LightGBM] [Debug] Trained a tree with leaves = 128 and max_depth = 14\n",
      "[LightGBM] [Debug] Trained a tree with leaves = 128 and max_depth = 14\n",
      "[LightGBM] [Debug] Trained a tree with leaves = 128 and max_depth = 14\n",
      "[LightGBM] [Debug] Trained a tree with leaves = 128 and max_depth = 14\n",
      "[LightGBM] [Debug] Trained a tree with leaves = 128 and max_depth = 14\n",
      "[LightGBM] [Debug] Trained a tree with leaves = 128 and max_depth = 14\n",
      "[LightGBM] [Debug] Trained a tree with leaves = 128 and max_depth = 13\n",
      "[LightGBM] [Debug] Trained a tree with leaves = 128 and max_depth = 14\n",
      "[LightGBM] [Debug] Trained a tree with leaves = 128 and max_depth = 16\n",
      "[LightGBM] [Debug] Trained a tree with leaves = 128 and max_depth = 14\n",
      "[LightGBM] [Debug] Trained a tree with leaves = 128 and max_depth = 14\n",
      "[LightGBM] [Debug] Trained a tree with leaves = 128 and max_depth = 13\n",
      "[LightGBM] [Debug] Trained a tree with leaves = 128 and max_depth = 14\n",
      "[LightGBM] [Debug] Trained a tree with leaves = 128 and max_depth = 12\n",
      "[LightGBM] [Debug] Trained a tree with leaves = 128 and max_depth = 14\n",
      "[LightGBM] [Debug] Trained a tree with leaves = 128 and max_depth = 14\n",
      "[LightGBM] [Debug] Trained a tree with leaves = 128 and max_depth = 14\n",
      "[LightGBM] [Debug] Trained a tree with leaves = 128 and max_depth = 14\n",
      "[LightGBM] [Debug] Trained a tree with leaves = 128 and max_depth = 14\n",
      "[LightGBM] [Debug] Trained a tree with leaves = 128 and max_depth = 14\n",
      "[LightGBM] [Debug] Trained a tree with leaves = 128 and max_depth = 13\n",
      "[LightGBM] [Debug] Trained a tree with leaves = 128 and max_depth = 14\n",
      "[LightGBM] [Debug] Trained a tree with leaves = 128 and max_depth = 14\n",
      "[LightGBM] [Debug] Trained a tree with leaves = 128 and max_depth = 13\n",
      "[LightGBM] [Debug] Trained a tree with leaves = 128 and max_depth = 14\n",
      "[LightGBM] [Debug] Trained a tree with leaves = 128 and max_depth = 13\n",
      "[LightGBM] [Debug] Trained a tree with leaves = 128 and max_depth = 14\n",
      "[LightGBM] [Debug] Trained a tree with leaves = 128 and max_depth = 14\n",
      "[LightGBM] [Debug] Trained a tree with leaves = 128 and max_depth = 14\n",
      "[LightGBM] [Debug] Trained a tree with leaves = 128 and max_depth = 15\n",
      "[LightGBM] [Debug] Trained a tree with leaves = 128 and max_depth = 13\n",
      "[LightGBM] [Debug] Trained a tree with leaves = 128 and max_depth = 13\n",
      "[LightGBM] [Debug] Trained a tree with leaves = 128 and max_depth = 15\n",
      "[LightGBM] [Debug] Trained a tree with leaves = 128 and max_depth = 13\n",
      "[LightGBM] [Debug] Trained a tree with leaves = 128 and max_depth = 16\n",
      "[LightGBM] [Debug] Trained a tree with leaves = 128 and max_depth = 13\n",
      "[LightGBM] [Debug] Trained a tree with leaves = 128 and max_depth = 15\n",
      "[LightGBM] [Debug] Trained a tree with leaves = 128 and max_depth = 15\n",
      "[LightGBM] [Debug] Trained a tree with leaves = 128 and max_depth = 13\n",
      "[LightGBM] [Debug] Trained a tree with leaves = 128 and max_depth = 14\n",
      "[LightGBM] [Debug] Trained a tree with leaves = 128 and max_depth = 14\n",
      "[LightGBM] [Debug] Trained a tree with leaves = 128 and max_depth = 14\n",
      "[LightGBM] [Debug] Trained a tree with leaves = 128 and max_depth = 14\n",
      "[LightGBM] [Debug] Trained a tree with leaves = 128 and max_depth = 13\n",
      "[LightGBM] [Debug] Trained a tree with leaves = 128 and max_depth = 15\n",
      "[LightGBM] [Debug] Trained a tree with leaves = 128 and max_depth = 14\n",
      "[LightGBM] [Debug] Trained a tree with leaves = 128 and max_depth = 13\n",
      "[LightGBM] [Debug] Trained a tree with leaves = 128 and max_depth = 13\n",
      "[LightGBM] [Debug] Trained a tree with leaves = 128 and max_depth = 14\n",
      "[LightGBM] [Debug] Trained a tree with leaves = 128 and max_depth = 14\n",
      "[LightGBM] [Debug] Trained a tree with leaves = 128 and max_depth = 13\n",
      "[LightGBM] [Debug] Trained a tree with leaves = 128 and max_depth = 14\n",
      "[LightGBM] [Debug] Trained a tree with leaves = 128 and max_depth = 14\n",
      "[LightGBM] [Debug] Trained a tree with leaves = 128 and max_depth = 13\n",
      "[LightGBM] [Debug] Trained a tree with leaves = 128 and max_depth = 14\n",
      "[LightGBM] [Debug] Trained a tree with leaves = 128 and max_depth = 14\n",
      "[LightGBM] [Debug] Trained a tree with leaves = 128 and max_depth = 14\n",
      "[LightGBM] [Debug] Trained a tree with leaves = 128 and max_depth = 13\n",
      "[LightGBM] [Debug] Trained a tree with leaves = 128 and max_depth = 15\n",
      "[LightGBM] [Debug] Trained a tree with leaves = 128 and max_depth = 14\n",
      "[LightGBM] [Debug] Trained a tree with leaves = 128 and max_depth = 13\n",
      "[LightGBM] [Debug] Trained a tree with leaves = 128 and max_depth = 13\n",
      "[LightGBM] [Debug] Trained a tree with leaves = 128 and max_depth = 14\n",
      "[LightGBM] [Debug] Trained a tree with leaves = 128 and max_depth = 14\n",
      "[LightGBM] [Debug] Trained a tree with leaves = 128 and max_depth = 15\n",
      "[LightGBM] [Debug] Trained a tree with leaves = 128 and max_depth = 13\n",
      "[LightGBM] [Debug] Trained a tree with leaves = 128 and max_depth = 14\n",
      "[LightGBM] [Debug] Trained a tree with leaves = 128 and max_depth = 15\n",
      "[LightGBM] [Debug] Trained a tree with leaves = 128 and max_depth = 14\n",
      "[LightGBM] [Debug] Trained a tree with leaves = 128 and max_depth = 13\n",
      "[LightGBM] [Debug] Trained a tree with leaves = 128 and max_depth = 14\n",
      "[LightGBM] [Debug] Trained a tree with leaves = 128 and max_depth = 14\n",
      "[LightGBM] [Debug] Trained a tree with leaves = 128 and max_depth = 13\n",
      "[LightGBM] [Debug] Trained a tree with leaves = 128 and max_depth = 13\n",
      "[LightGBM] [Debug] Trained a tree with leaves = 128 and max_depth = 13\n",
      "[LightGBM] [Debug] Trained a tree with leaves = 128 and max_depth = 14\n",
      "[LightGBM] [Debug] Trained a tree with leaves = 128 and max_depth = 13\n",
      "[LightGBM] [Debug] Trained a tree with leaves = 128 and max_depth = 13\n",
      "[LightGBM] [Debug] Trained a tree with leaves = 128 and max_depth = 15\n",
      "[LightGBM] [Debug] Trained a tree with leaves = 128 and max_depth = 14\n",
      "[LightGBM] [Debug] Trained a tree with leaves = 128 and max_depth = 14\n",
      "[LightGBM] [Debug] Trained a tree with leaves = 128 and max_depth = 13\n",
      "[LightGBM] [Debug] Trained a tree with leaves = 128 and max_depth = 15\n",
      "[LightGBM] [Debug] Trained a tree with leaves = 128 and max_depth = 13\n",
      "[LightGBM] [Debug] Trained a tree with leaves = 128 and max_depth = 13\n",
      "[LightGBM] [Debug] Trained a tree with leaves = 128 and max_depth = 14\n",
      "[LightGBM] [Debug] Trained a tree with leaves = 128 and max_depth = 13\n",
      "[LightGBM] [Debug] Trained a tree with leaves = 128 and max_depth = 14\n",
      "[LightGBM] [Debug] Trained a tree with leaves = 128 and max_depth = 13\n",
      "[LightGBM] [Debug] Trained a tree with leaves = 128 and max_depth = 15\n",
      "[LightGBM] [Debug] Trained a tree with leaves = 128 and max_depth = 13\n",
      "[LightGBM] [Debug] Trained a tree with leaves = 128 and max_depth = 14\n",
      "[LightGBM] [Debug] Trained a tree with leaves = 128 and max_depth = 14\n",
      "[LightGBM] [Debug] Trained a tree with leaves = 128 and max_depth = 13\n",
      "[LightGBM] [Debug] Trained a tree with leaves = 128 and max_depth = 13\n",
      "[LightGBM] [Debug] Trained a tree with leaves = 128 and max_depth = 15\n",
      "[LightGBM] [Debug] Trained a tree with leaves = 128 and max_depth = 14\n",
      "[LightGBM] [Debug] Trained a tree with leaves = 128 and max_depth = 13\n",
      "[LightGBM] [Debug] Trained a tree with leaves = 128 and max_depth = 14\n",
      "[LightGBM] [Debug] Trained a tree with leaves = 128 and max_depth = 14\n",
      "[LightGBM] [Debug] Trained a tree with leaves = 128 and max_depth = 13\n",
      "[LightGBM] [Debug] Trained a tree with leaves = 128 and max_depth = 14\n",
      "[LightGBM] [Debug] Trained a tree with leaves = 128 and max_depth = 14\n",
      "[LightGBM] [Debug] Trained a tree with leaves = 128 and max_depth = 14\n",
      "[LightGBM] [Debug] Trained a tree with leaves = 128 and max_depth = 13\n",
      "[LightGBM] [Debug] Trained a tree with leaves = 128 and max_depth = 14\n",
      "[LightGBM] [Debug] Trained a tree with leaves = 128 and max_depth = 13\n",
      "[LightGBM] [Debug] Trained a tree with leaves = 128 and max_depth = 14\n",
      "[LightGBM] [Debug] Trained a tree with leaves = 128 and max_depth = 14\n",
      "[LightGBM] [Debug] Trained a tree with leaves = 128 and max_depth = 15\n",
      "[LightGBM] [Debug] Trained a tree with leaves = 128 and max_depth = 13\n",
      "[LightGBM] [Debug] Trained a tree with leaves = 128 and max_depth = 14\n",
      "[LightGBM] [Debug] Trained a tree with leaves = 128 and max_depth = 13\n",
      "[LightGBM] [Debug] Trained a tree with leaves = 128 and max_depth = 14\n",
      "[LightGBM] [Debug] Trained a tree with leaves = 128 and max_depth = 14\n",
      "[LightGBM] [Debug] Trained a tree with leaves = 128 and max_depth = 13\n",
      "[LightGBM] [Debug] Trained a tree with leaves = 128 and max_depth = 13\n",
      "[LightGBM] [Debug] Trained a tree with leaves = 128 and max_depth = 14\n",
      "[LightGBM] [Debug] Trained a tree with leaves = 128 and max_depth = 14\n",
      "[LightGBM] [Debug] Trained a tree with leaves = 128 and max_depth = 13\n",
      "[LightGBM] [Debug] Trained a tree with leaves = 128 and max_depth = 14\n",
      "[LightGBM] [Debug] Trained a tree with leaves = 128 and max_depth = 14\n",
      "[LightGBM] [Debug] Trained a tree with leaves = 128 and max_depth = 13\n",
      "[LightGBM] [Debug] Trained a tree with leaves = 128 and max_depth = 16\n",
      "[LightGBM] [Debug] Trained a tree with leaves = 128 and max_depth = 14\n",
      "[LightGBM] [Debug] Trained a tree with leaves = 128 and max_depth = 13\n",
      "[LightGBM] [Debug] Trained a tree with leaves = 128 and max_depth = 14\n",
      "[LightGBM] [Debug] Trained a tree with leaves = 128 and max_depth = 14\n",
      "[LightGBM] [Debug] Trained a tree with leaves = 128 and max_depth = 13\n",
      "[LightGBM] [Debug] Trained a tree with leaves = 128 and max_depth = 14\n",
      "[LightGBM] [Debug] Trained a tree with leaves = 128 and max_depth = 14\n",
      "[LightGBM] [Debug] Trained a tree with leaves = 128 and max_depth = 13\n",
      "[LightGBM] [Debug] Trained a tree with leaves = 128 and max_depth = 14\n",
      "[LightGBM] [Debug] Trained a tree with leaves = 128 and max_depth = 16\n",
      "[LightGBM] [Debug] Trained a tree with leaves = 128 and max_depth = 14\n",
      "[LightGBM] [Debug] Trained a tree with leaves = 128 and max_depth = 13\n",
      "[LightGBM] [Debug] Trained a tree with leaves = 128 and max_depth = 14\n",
      "[LightGBM] [Debug] Trained a tree with leaves = 128 and max_depth = 14\n",
      "[LightGBM] [Debug] Trained a tree with leaves = 128 and max_depth = 14\n",
      "[LightGBM] [Debug] Trained a tree with leaves = 128 and max_depth = 13\n",
      "[LightGBM] [Debug] Trained a tree with leaves = 128 and max_depth = 15\n",
      "[LightGBM] [Debug] Trained a tree with leaves = 128 and max_depth = 13\n",
      "[LightGBM] [Debug] Trained a tree with leaves = 128 and max_depth = 14\n",
      "[LightGBM] [Debug] Trained a tree with leaves = 128 and max_depth = 14\n",
      "[LightGBM] [Debug] Trained a tree with leaves = 128 and max_depth = 13\n",
      "[LightGBM] [Debug] Trained a tree with leaves = 128 and max_depth = 14\n",
      "[LightGBM] [Debug] Trained a tree with leaves = 128 and max_depth = 14\n",
      "[LightGBM] [Debug] Trained a tree with leaves = 128 and max_depth = 14\n",
      "[LightGBM] [Debug] Trained a tree with leaves = 128 and max_depth = 14\n",
      "[LightGBM] [Debug] Trained a tree with leaves = 128 and max_depth = 13\n",
      "[LightGBM] [Debug] Trained a tree with leaves = 128 and max_depth = 13\n",
      "[LightGBM] [Debug] Trained a tree with leaves = 128 and max_depth = 14\n",
      "[LightGBM] [Debug] Trained a tree with leaves = 128 and max_depth = 14\n",
      "[LightGBM] [Debug] Trained a tree with leaves = 128 and max_depth = 14\n",
      "[LightGBM] [Debug] Trained a tree with leaves = 128 and max_depth = 12\n",
      "[LightGBM] [Debug] Trained a tree with leaves = 128 and max_depth = 14\n",
      "[LightGBM] [Debug] Trained a tree with leaves = 128 and max_depth = 14\n",
      "[LightGBM] [Debug] Trained a tree with leaves = 128 and max_depth = 14\n",
      "[LightGBM] [Debug] Trained a tree with leaves = 128 and max_depth = 14\n",
      "[LightGBM] [Debug] Trained a tree with leaves = 128 and max_depth = 13\n",
      "[LightGBM] [Debug] Trained a tree with leaves = 128 and max_depth = 16\n",
      "[LightGBM] [Debug] Trained a tree with leaves = 128 and max_depth = 14\n",
      "[LightGBM] [Debug] Trained a tree with leaves = 128 and max_depth = 13\n",
      "[LightGBM] [Debug] Trained a tree with leaves = 128 and max_depth = 13\n",
      "[LightGBM] [Debug] Trained a tree with leaves = 128 and max_depth = 14\n",
      "[LightGBM] [Debug] Trained a tree with leaves = 128 and max_depth = 13\n",
      "[LightGBM] [Debug] Trained a tree with leaves = 128 and max_depth = 16\n",
      "[LightGBM] [Debug] Trained a tree with leaves = 128 and max_depth = 14\n",
      "[LightGBM] [Debug] Trained a tree with leaves = 128 and max_depth = 12\n",
      "[LightGBM] [Debug] Trained a tree with leaves = 128 and max_depth = 14\n",
      "[LightGBM] [Debug] Trained a tree with leaves = 128 and max_depth = 14\n",
      "[LightGBM] [Debug] Trained a tree with leaves = 128 and max_depth = 13\n",
      "[LightGBM] [Debug] Trained a tree with leaves = 128 and max_depth = 14\n",
      "[LightGBM] [Debug] Trained a tree with leaves = 128 and max_depth = 14\n",
      "[LightGBM] [Debug] Trained a tree with leaves = 128 and max_depth = 15\n",
      "[LightGBM] [Debug] Trained a tree with leaves = 128 and max_depth = 13\n",
      "[LightGBM] [Debug] Trained a tree with leaves = 128 and max_depth = 14\n",
      "[LightGBM] [Debug] Trained a tree with leaves = 128 and max_depth = 11\n",
      "[LightGBM] [Debug] Trained a tree with leaves = 128 and max_depth = 16\n",
      "[LightGBM] [Debug] Trained a tree with leaves = 128 and max_depth = 13\n",
      "[LightGBM] [Debug] Trained a tree with leaves = 128 and max_depth = 15\n",
      "[LightGBM] [Debug] Trained a tree with leaves = 128 and max_depth = 11\n",
      "[LightGBM] [Debug] Trained a tree with leaves = 128 and max_depth = 14\n",
      "[LightGBM] [Debug] Trained a tree with leaves = 128 and max_depth = 13\n",
      "[LightGBM] [Debug] Trained a tree with leaves = 128 and max_depth = 16\n",
      "[LightGBM] [Debug] Trained a tree with leaves = 128 and max_depth = 12\n",
      "[LightGBM] [Debug] Trained a tree with leaves = 128 and max_depth = 14\n",
      "[LightGBM] [Debug] Trained a tree with leaves = 128 and max_depth = 14\n",
      "[LightGBM] [Debug] Trained a tree with leaves = 128 and max_depth = 11\n",
      "[LightGBM] [Debug] Trained a tree with leaves = 128 and max_depth = 13\n",
      "[LightGBM] [Debug] Trained a tree with leaves = 128 and max_depth = 14\n",
      "[LightGBM] [Debug] Trained a tree with leaves = 128 and max_depth = 11\n",
      "[LightGBM] [Debug] Trained a tree with leaves = 128 and max_depth = 14\n",
      "[LightGBM] [Debug] Trained a tree with leaves = 128 and max_depth = 13\n",
      "[LightGBM] [Debug] Trained a tree with leaves = 128 and max_depth = 16\n",
      "[LightGBM] [Debug] Trained a tree with leaves = 128 and max_depth = 14\n",
      "[LightGBM] [Debug] Trained a tree with leaves = 128 and max_depth = 12\n",
      "[LightGBM] [Debug] Trained a tree with leaves = 128 and max_depth = 13\n",
      "[LightGBM] [Debug] Trained a tree with leaves = 128 and max_depth = 14\n",
      "[LightGBM] [Debug] Trained a tree with leaves = 128 and max_depth = 12\n",
      "[LightGBM] [Debug] Trained a tree with leaves = 128 and max_depth = 14\n",
      "[LightGBM] [Debug] Trained a tree with leaves = 128 and max_depth = 12\n",
      "[LightGBM] [Debug] Trained a tree with leaves = 128 and max_depth = 14\n",
      "[LightGBM] [Debug] Trained a tree with leaves = 128 and max_depth = 14\n",
      "[LightGBM] [Debug] Trained a tree with leaves = 128 and max_depth = 16\n",
      "[LightGBM] [Debug] Trained a tree with leaves = 128 and max_depth = 13\n",
      "[LightGBM] [Debug] Trained a tree with leaves = 128 and max_depth = 11\n",
      "[LightGBM] [Debug] Trained a tree with leaves = 128 and max_depth = 14\n"
     ]
    }
   ],
   "source": [
    "gbm_t,y_pred_t = train_predict_lgbm_regression(hyper_params,X_t,y_t,X_test_t)"
   ]
  },
  {
   "cell_type": "markdown",
   "metadata": {},
   "source": [
    "### Metrics"
   ]
  },
  {
   "cell_type": "code",
   "execution_count": 141,
   "metadata": {},
   "outputs": [
    {
     "name": "stdout",
     "output_type": "stream",
     "text": [
      "The R2 score is: 0.021454115328272794\n",
      "The RMSE error is: 0.9890736569992988\n",
      "The MAE is: 0.5799627657024549\n"
     ]
    }
   ],
   "source": [
    "print('The R2 score is:',r2_score(y_test_t.values,y_pred_t))\n",
    "print('The RMSE error is:',np.sqrt(mean_squared_error(y_test_t.values,y_pred_t)))\n",
    "print('The MAE is:',mean_absolute_error(y_test_t.values,y_pred_t))"
   ]
  },
  {
   "cell_type": "markdown",
   "metadata": {},
   "source": [
    "## Linear Regression"
   ]
  },
  {
   "cell_type": "code",
   "execution_count": 142,
   "metadata": {},
   "outputs": [],
   "source": [
    "reg_t = LinearRegression()\n",
    "reg_t.fit(X_t,y_t)\n",
    "y_pred_lr_t = reg_t.predict(X_test_t)"
   ]
  },
  {
   "cell_type": "markdown",
   "metadata": {},
   "source": [
    "### Metrics"
   ]
  },
  {
   "cell_type": "code",
   "execution_count": 143,
   "metadata": {},
   "outputs": [
    {
     "name": "stdout",
     "output_type": "stream",
     "text": [
      "The R2 score is: 0.004429984368072515\n",
      "The RMSE error is: 0.9976402020926493\n",
      "The MAE is: 0.5852131725932167\n"
     ]
    }
   ],
   "source": [
    "print('The R2 score is:',r2_score(y_test_t.values,y_pred_lr_t))\n",
    "print('The RMSE error is:',np.sqrt(mean_squared_error(y_test_t.values,y_pred_lr_t)))\n",
    "print('The MAE is:',mean_absolute_error(y_test_t.values,y_pred_lr_t))"
   ]
  },
  {
   "cell_type": "code",
   "execution_count": null,
   "metadata": {},
   "outputs": [],
   "source": []
  }
 ],
 "metadata": {
  "kernelspec": {
   "display_name": "Python 3",
   "language": "python",
   "name": "python3"
  },
  "language_info": {
   "codemirror_mode": {
    "name": "ipython",
    "version": 3
   },
   "file_extension": ".py",
   "mimetype": "text/x-python",
   "name": "python",
   "nbconvert_exporter": "python",
   "pygments_lexer": "ipython3",
   "version": "3.7.9"
  }
 },
 "nbformat": 4,
 "nbformat_minor": 4
}
